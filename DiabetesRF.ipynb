{
 "cells": [
  {
   "cell_type": "code",
   "execution_count": 1,
   "id": "2412ed18",
   "metadata": {},
   "outputs": [
    {
     "name": "stdout",
     "output_type": "stream",
     "text": [
      "'data.frame':\t253680 obs. of  22 variables:\n",
      " $ Diabetes_binary     : num  0 0 0 0 0 0 0 0 1 0 ...\n",
      " $ HighBP              : num  1 0 1 1 1 1 1 1 1 0 ...\n",
      " $ HighChol            : num  1 0 1 0 1 1 0 1 1 0 ...\n",
      " $ CholCheck           : num  1 0 1 1 1 1 1 1 1 1 ...\n",
      " $ BMI                 : num  40 25 28 27 24 25 30 25 30 24 ...\n",
      " $ Smoker              : num  1 1 0 0 0 1 1 1 1 0 ...\n",
      " $ Stroke              : num  0 0 0 0 0 0 0 0 0 0 ...\n",
      " $ HeartDiseaseorAttack: num  0 0 0 0 0 0 0 0 1 0 ...\n",
      " $ PhysActivity        : num  0 1 0 1 1 1 0 1 0 0 ...\n",
      " $ Fruits              : num  0 0 1 1 1 1 0 0 1 0 ...\n",
      " $ Veggies             : num  1 0 0 1 1 1 0 1 1 1 ...\n",
      " $ HvyAlcoholConsump   : num  0 0 0 0 0 0 0 0 0 0 ...\n",
      " $ AnyHealthcare       : num  1 0 1 1 1 1 1 1 1 1 ...\n",
      " $ NoDocbcCost         : num  0 1 1 0 0 0 0 0 0 0 ...\n",
      " $ GenHlth             : num  5 3 5 2 2 2 3 3 5 2 ...\n",
      " $ MentHlth            : num  18 0 30 0 3 0 0 0 30 0 ...\n",
      " $ PhysHlth            : num  15 0 30 0 0 2 14 0 30 0 ...\n",
      " $ DiffWalk            : num  1 0 1 0 0 0 0 1 1 0 ...\n",
      " $ Sex                 : num  0 0 0 0 0 1 0 0 0 1 ...\n",
      " $ Age                 : num  9 7 9 11 11 10 9 11 9 8 ...\n",
      " $ Education           : num  4 6 4 3 5 6 6 4 5 4 ...\n",
      " $ Income              : num  3 1 8 6 4 8 7 4 1 3 ...\n"
     ]
    }
   ],
   "source": [
    "#survey.csv was taken from https://www.kaggle.com/datasets/alexteboul/diabetes-health-indicators-dataset?select=diabetes_binary_health_indicators_BRFSS2015.csv\n",
    "data = read.csv(file=\"diabetes_binary_health_indicators_BRFSS2015.csv\", header=TRUE)\n",
    "str(data)"
   ]
  },
  {
   "cell_type": "code",
   "execution_count": 2,
   "id": "418c10ab",
   "metadata": {},
   "outputs": [],
   "source": [
    "data[,c('Diabetes_binary','HighBP','HighChol','CholCheck',\n",
    "       'Smoker','Stroke','HeartDiseaseorAttack','PhysActivity',\n",
    "       'Fruits','Veggies','HvyAlcoholConsump','AnyHealthcare',\n",
    "       'NoDocbcCost','GenHlth','MentHlth','PhysHlth','DiffWalk',\n",
    "       'Sex','Education','Income')] = lapply(data[,c('Diabetes_binary','HighBP','HighChol','CholCheck',\n",
    "       'Smoker','Stroke','HeartDiseaseorAttack','PhysActivity',\n",
    "       'Fruits','Veggies','HvyAlcoholConsump','AnyHealthcare',\n",
    "       'NoDocbcCost','GenHlth','MentHlth','PhysHlth','DiffWalk',\n",
    "       'Sex','Education','Income')], FUN=as.factor)"
   ]
  },
  {
   "cell_type": "code",
   "execution_count": 3,
   "id": "d3626695",
   "metadata": {},
   "outputs": [
    {
     "name": "stdout",
     "output_type": "stream",
     "text": [
      "'data.frame':\t253680 obs. of  22 variables:\n",
      " $ Diabetes_binary     : Factor w/ 2 levels \"0\",\"1\": 1 1 1 1 1 1 1 1 2 1 ...\n",
      " $ HighBP              : Factor w/ 2 levels \"0\",\"1\": 2 1 2 2 2 2 2 2 2 1 ...\n",
      " $ HighChol            : Factor w/ 2 levels \"0\",\"1\": 2 1 2 1 2 2 1 2 2 1 ...\n",
      " $ CholCheck           : Factor w/ 2 levels \"0\",\"1\": 2 1 2 2 2 2 2 2 2 2 ...\n",
      " $ BMI                 : num  40 25 28 27 24 25 30 25 30 24 ...\n",
      " $ Smoker              : Factor w/ 2 levels \"0\",\"1\": 2 2 1 1 1 2 2 2 2 1 ...\n",
      " $ Stroke              : Factor w/ 2 levels \"0\",\"1\": 1 1 1 1 1 1 1 1 1 1 ...\n",
      " $ HeartDiseaseorAttack: Factor w/ 2 levels \"0\",\"1\": 1 1 1 1 1 1 1 1 2 1 ...\n",
      " $ PhysActivity        : Factor w/ 2 levels \"0\",\"1\": 1 2 1 2 2 2 1 2 1 1 ...\n",
      " $ Fruits              : Factor w/ 2 levels \"0\",\"1\": 1 1 2 2 2 2 1 1 2 1 ...\n",
      " $ Veggies             : Factor w/ 2 levels \"0\",\"1\": 2 1 1 2 2 2 1 2 2 2 ...\n",
      " $ HvyAlcoholConsump   : Factor w/ 2 levels \"0\",\"1\": 1 1 1 1 1 1 1 1 1 1 ...\n",
      " $ AnyHealthcare       : Factor w/ 2 levels \"0\",\"1\": 2 1 2 2 2 2 2 2 2 2 ...\n",
      " $ NoDocbcCost         : Factor w/ 2 levels \"0\",\"1\": 1 2 2 1 1 1 1 1 1 1 ...\n",
      " $ GenHlth             : Factor w/ 5 levels \"1\",\"2\",\"3\",\"4\",..: 5 3 5 2 2 2 3 3 5 2 ...\n",
      " $ MentHlth            : Factor w/ 31 levels \"0\",\"1\",\"2\",\"3\",..: 19 1 31 1 4 1 1 1 31 1 ...\n",
      " $ PhysHlth            : Factor w/ 31 levels \"0\",\"1\",\"2\",\"3\",..: 16 1 31 1 1 3 15 1 31 1 ...\n",
      " $ DiffWalk            : Factor w/ 2 levels \"0\",\"1\": 2 1 2 1 1 1 1 2 2 1 ...\n",
      " $ Sex                 : Factor w/ 2 levels \"0\",\"1\": 1 1 1 1 1 2 1 1 1 2 ...\n",
      " $ Age                 : num  9 7 9 11 11 10 9 11 9 8 ...\n",
      " $ Education           : Factor w/ 6 levels \"1\",\"2\",\"3\",\"4\",..: 4 6 4 3 5 6 6 4 5 4 ...\n",
      " $ Income              : Factor w/ 8 levels \"1\",\"2\",\"3\",\"4\",..: 3 1 8 6 4 8 7 4 1 3 ...\n"
     ]
    }
   ],
   "source": [
    "str(data)"
   ]
  },
  {
   "cell_type": "code",
   "execution_count": 4,
   "id": "4128dddf",
   "metadata": {},
   "outputs": [
    {
     "data": {
      "text/html": [
       "0"
      ],
      "text/latex": [
       "0"
      ],
      "text/markdown": [
       "0"
      ],
      "text/plain": [
       "[1] 0"
      ]
     },
     "metadata": {},
     "output_type": "display_data"
    }
   ],
   "source": [
    "sum(is.na(data))"
   ]
  },
  {
   "cell_type": "code",
   "execution_count": 5,
   "id": "4804e9dc",
   "metadata": {
    "scrolled": true
   },
   "outputs": [
    {
     "data": {
      "text/html": [
       "<table class=\"dataframe\">\n",
       "<caption>A data.frame: 6 × 22</caption>\n",
       "<thead>\n",
       "\t<tr><th></th><th scope=col>Diabetes_binary</th><th scope=col>HighBP</th><th scope=col>HighChol</th><th scope=col>CholCheck</th><th scope=col>BMI</th><th scope=col>Smoker</th><th scope=col>Stroke</th><th scope=col>HeartDiseaseorAttack</th><th scope=col>PhysActivity</th><th scope=col>Fruits</th><th scope=col>⋯</th><th scope=col>AnyHealthcare</th><th scope=col>NoDocbcCost</th><th scope=col>GenHlth</th><th scope=col>MentHlth</th><th scope=col>PhysHlth</th><th scope=col>DiffWalk</th><th scope=col>Sex</th><th scope=col>Age</th><th scope=col>Education</th><th scope=col>Income</th></tr>\n",
       "\t<tr><th></th><th scope=col>&lt;fct&gt;</th><th scope=col>&lt;fct&gt;</th><th scope=col>&lt;fct&gt;</th><th scope=col>&lt;fct&gt;</th><th scope=col>&lt;dbl&gt;</th><th scope=col>&lt;fct&gt;</th><th scope=col>&lt;fct&gt;</th><th scope=col>&lt;fct&gt;</th><th scope=col>&lt;fct&gt;</th><th scope=col>&lt;fct&gt;</th><th scope=col>⋯</th><th scope=col>&lt;fct&gt;</th><th scope=col>&lt;fct&gt;</th><th scope=col>&lt;fct&gt;</th><th scope=col>&lt;fct&gt;</th><th scope=col>&lt;fct&gt;</th><th scope=col>&lt;fct&gt;</th><th scope=col>&lt;fct&gt;</th><th scope=col>&lt;dbl&gt;</th><th scope=col>&lt;fct&gt;</th><th scope=col>&lt;fct&gt;</th></tr>\n",
       "</thead>\n",
       "<tbody>\n",
       "\t<tr><th scope=row>1</th><td>0</td><td>1</td><td>1</td><td>1</td><td>40</td><td>1</td><td>0</td><td>0</td><td>0</td><td>0</td><td>⋯</td><td>1</td><td>0</td><td>5</td><td>18</td><td>15</td><td>1</td><td>0</td><td> 9</td><td>4</td><td>3</td></tr>\n",
       "\t<tr><th scope=row>2</th><td>0</td><td>0</td><td>0</td><td>0</td><td>25</td><td>1</td><td>0</td><td>0</td><td>1</td><td>0</td><td>⋯</td><td>0</td><td>1</td><td>3</td><td>0 </td><td>0 </td><td>0</td><td>0</td><td> 7</td><td>6</td><td>1</td></tr>\n",
       "\t<tr><th scope=row>3</th><td>0</td><td>1</td><td>1</td><td>1</td><td>28</td><td>0</td><td>0</td><td>0</td><td>0</td><td>1</td><td>⋯</td><td>1</td><td>1</td><td>5</td><td>30</td><td>30</td><td>1</td><td>0</td><td> 9</td><td>4</td><td>8</td></tr>\n",
       "\t<tr><th scope=row>4</th><td>0</td><td>1</td><td>0</td><td>1</td><td>27</td><td>0</td><td>0</td><td>0</td><td>1</td><td>1</td><td>⋯</td><td>1</td><td>0</td><td>2</td><td>0 </td><td>0 </td><td>0</td><td>0</td><td>11</td><td>3</td><td>6</td></tr>\n",
       "\t<tr><th scope=row>5</th><td>0</td><td>1</td><td>1</td><td>1</td><td>24</td><td>0</td><td>0</td><td>0</td><td>1</td><td>1</td><td>⋯</td><td>1</td><td>0</td><td>2</td><td>3 </td><td>0 </td><td>0</td><td>0</td><td>11</td><td>5</td><td>4</td></tr>\n",
       "\t<tr><th scope=row>6</th><td>0</td><td>1</td><td>1</td><td>1</td><td>25</td><td>1</td><td>0</td><td>0</td><td>1</td><td>1</td><td>⋯</td><td>1</td><td>0</td><td>2</td><td>0 </td><td>2 </td><td>0</td><td>1</td><td>10</td><td>6</td><td>8</td></tr>\n",
       "</tbody>\n",
       "</table>\n"
      ],
      "text/latex": [
       "A data.frame: 6 × 22\n",
       "\\begin{tabular}{r|lllllllllllllllllllll}\n",
       "  & Diabetes\\_binary & HighBP & HighChol & CholCheck & BMI & Smoker & Stroke & HeartDiseaseorAttack & PhysActivity & Fruits & ⋯ & AnyHealthcare & NoDocbcCost & GenHlth & MentHlth & PhysHlth & DiffWalk & Sex & Age & Education & Income\\\\\n",
       "  & <fct> & <fct> & <fct> & <fct> & <dbl> & <fct> & <fct> & <fct> & <fct> & <fct> & ⋯ & <fct> & <fct> & <fct> & <fct> & <fct> & <fct> & <fct> & <dbl> & <fct> & <fct>\\\\\n",
       "\\hline\n",
       "\t1 & 0 & 1 & 1 & 1 & 40 & 1 & 0 & 0 & 0 & 0 & ⋯ & 1 & 0 & 5 & 18 & 15 & 1 & 0 &  9 & 4 & 3\\\\\n",
       "\t2 & 0 & 0 & 0 & 0 & 25 & 1 & 0 & 0 & 1 & 0 & ⋯ & 0 & 1 & 3 & 0  & 0  & 0 & 0 &  7 & 6 & 1\\\\\n",
       "\t3 & 0 & 1 & 1 & 1 & 28 & 0 & 0 & 0 & 0 & 1 & ⋯ & 1 & 1 & 5 & 30 & 30 & 1 & 0 &  9 & 4 & 8\\\\\n",
       "\t4 & 0 & 1 & 0 & 1 & 27 & 0 & 0 & 0 & 1 & 1 & ⋯ & 1 & 0 & 2 & 0  & 0  & 0 & 0 & 11 & 3 & 6\\\\\n",
       "\t5 & 0 & 1 & 1 & 1 & 24 & 0 & 0 & 0 & 1 & 1 & ⋯ & 1 & 0 & 2 & 3  & 0  & 0 & 0 & 11 & 5 & 4\\\\\n",
       "\t6 & 0 & 1 & 1 & 1 & 25 & 1 & 0 & 0 & 1 & 1 & ⋯ & 1 & 0 & 2 & 0  & 2  & 0 & 1 & 10 & 6 & 8\\\\\n",
       "\\end{tabular}\n"
      ],
      "text/markdown": [
       "\n",
       "A data.frame: 6 × 22\n",
       "\n",
       "| <!--/--> | Diabetes_binary &lt;fct&gt; | HighBP &lt;fct&gt; | HighChol &lt;fct&gt; | CholCheck &lt;fct&gt; | BMI &lt;dbl&gt; | Smoker &lt;fct&gt; | Stroke &lt;fct&gt; | HeartDiseaseorAttack &lt;fct&gt; | PhysActivity &lt;fct&gt; | Fruits &lt;fct&gt; | ⋯ ⋯ | AnyHealthcare &lt;fct&gt; | NoDocbcCost &lt;fct&gt; | GenHlth &lt;fct&gt; | MentHlth &lt;fct&gt; | PhysHlth &lt;fct&gt; | DiffWalk &lt;fct&gt; | Sex &lt;fct&gt; | Age &lt;dbl&gt; | Education &lt;fct&gt; | Income &lt;fct&gt; |\n",
       "|---|---|---|---|---|---|---|---|---|---|---|---|---|---|---|---|---|---|---|---|---|---|\n",
       "| 1 | 0 | 1 | 1 | 1 | 40 | 1 | 0 | 0 | 0 | 0 | ⋯ | 1 | 0 | 5 | 18 | 15 | 1 | 0 |  9 | 4 | 3 |\n",
       "| 2 | 0 | 0 | 0 | 0 | 25 | 1 | 0 | 0 | 1 | 0 | ⋯ | 0 | 1 | 3 | 0  | 0  | 0 | 0 |  7 | 6 | 1 |\n",
       "| 3 | 0 | 1 | 1 | 1 | 28 | 0 | 0 | 0 | 0 | 1 | ⋯ | 1 | 1 | 5 | 30 | 30 | 1 | 0 |  9 | 4 | 8 |\n",
       "| 4 | 0 | 1 | 0 | 1 | 27 | 0 | 0 | 0 | 1 | 1 | ⋯ | 1 | 0 | 2 | 0  | 0  | 0 | 0 | 11 | 3 | 6 |\n",
       "| 5 | 0 | 1 | 1 | 1 | 24 | 0 | 0 | 0 | 1 | 1 | ⋯ | 1 | 0 | 2 | 3  | 0  | 0 | 0 | 11 | 5 | 4 |\n",
       "| 6 | 0 | 1 | 1 | 1 | 25 | 1 | 0 | 0 | 1 | 1 | ⋯ | 1 | 0 | 2 | 0  | 2  | 0 | 1 | 10 | 6 | 8 |\n",
       "\n"
      ],
      "text/plain": [
       "  Diabetes_binary HighBP HighChol CholCheck BMI Smoker Stroke\n",
       "1 0               1      1        1         40  1      0     \n",
       "2 0               0      0        0         25  1      0     \n",
       "3 0               1      1        1         28  0      0     \n",
       "4 0               1      0        1         27  0      0     \n",
       "5 0               1      1        1         24  0      0     \n",
       "6 0               1      1        1         25  1      0     \n",
       "  HeartDiseaseorAttack PhysActivity Fruits ⋯ AnyHealthcare NoDocbcCost GenHlth\n",
       "1 0                    0            0      ⋯ 1             0           5      \n",
       "2 0                    1            0      ⋯ 0             1           3      \n",
       "3 0                    0            1      ⋯ 1             1           5      \n",
       "4 0                    1            1      ⋯ 1             0           2      \n",
       "5 0                    1            1      ⋯ 1             0           2      \n",
       "6 0                    1            1      ⋯ 1             0           2      \n",
       "  MentHlth PhysHlth DiffWalk Sex Age Education Income\n",
       "1 18       15       1        0    9  4         3     \n",
       "2 0        0        0        0    7  6         1     \n",
       "3 30       30       1        0    9  4         8     \n",
       "4 0        0        0        0   11  3         6     \n",
       "5 3        0        0        0   11  5         4     \n",
       "6 0        2        0        1   10  6         8     "
      ]
     },
     "metadata": {},
     "output_type": "display_data"
    }
   ],
   "source": [
    "head(data)"
   ]
  },
  {
   "cell_type": "code",
   "execution_count": 6,
   "id": "345ee59a",
   "metadata": {},
   "outputs": [
    {
     "data": {
      "text/plain": [
       "\n",
       "     0      1 \n",
       "218334  35346 "
      ]
     },
     "metadata": {},
     "output_type": "display_data"
    }
   ],
   "source": [
    "table(data$Diabetes_binary)"
   ]
  },
  {
   "cell_type": "code",
   "execution_count": 7,
   "id": "0fee77d2",
   "metadata": {},
   "outputs": [],
   "source": [
    "set.seed(227)\n",
    "ind = sample(2, nrow(data), replace = TRUE, prob = c(0.7, 0.3))\n",
    "train = data[ind==1,]\n",
    "test = data[ind==2,]"
   ]
  },
  {
   "cell_type": "code",
   "execution_count": 8,
   "id": "cc331627",
   "metadata": {},
   "outputs": [
    {
     "name": "stderr",
     "output_type": "stream",
     "text": [
      "randomForest 4.6-14\n",
      "\n",
      "Type rfNews() to see new features/changes/bug fixes.\n",
      "\n"
     ]
    },
    {
     "name": "stdout",
     "output_type": "stream",
     "text": [
      "\n",
      "Call:\n",
      " randomForest(formula = Diabetes_binary ~ ., data = train) \n",
      "               Type of random forest: classification\n",
      "                     Number of trees: 500\n",
      "No. of variables tried at each split: 4\n",
      "\n",
      "        OOB estimate of  error rate: 13.65%\n",
      "Confusion matrix:\n",
      "       0    1 class.error\n",
      "0 148503 4082   0.0267523\n",
      "1  20129 4600   0.8139836\n"
     ]
    }
   ],
   "source": [
    "#Random Forest\n",
    "library(randomForest)\n",
    "set.seed(1337)\n",
    "rf = randomForest(Diabetes_binary~., data = train)\n",
    "print(rf)"
   ]
  },
  {
   "cell_type": "code",
   "execution_count": 9,
   "id": "5aac46f4",
   "metadata": {},
   "outputs": [
    {
     "data": {
      "text/html": [
       "<dl>\n",
       "\t<dt>$names</dt>\n",
       "\t\t<dd><style>\n",
       ".list-inline {list-style: none; margin:0; padding: 0}\n",
       ".list-inline>li {display: inline-block}\n",
       ".list-inline>li:not(:last-child)::after {content: \"\\00b7\"; padding: 0 .5ex}\n",
       "</style>\n",
       "<ol class=list-inline><li>'call'</li><li>'type'</li><li>'predicted'</li><li>'err.rate'</li><li>'confusion'</li><li>'votes'</li><li>'oob.times'</li><li>'classes'</li><li>'importance'</li><li>'importanceSD'</li><li>'localImportance'</li><li>'proximity'</li><li>'ntree'</li><li>'mtry'</li><li>'forest'</li><li>'y'</li><li>'test'</li><li>'inbag'</li><li>'terms'</li></ol>\n",
       "</dd>\n",
       "\t<dt>$class</dt>\n",
       "\t\t<dd><style>\n",
       ".list-inline {list-style: none; margin:0; padding: 0}\n",
       ".list-inline>li {display: inline-block}\n",
       ".list-inline>li:not(:last-child)::after {content: \"\\00b7\"; padding: 0 .5ex}\n",
       "</style>\n",
       "<ol class=list-inline><li>'randomForest.formula'</li><li>'randomForest'</li></ol>\n",
       "</dd>\n",
       "</dl>\n"
      ],
      "text/latex": [
       "\\begin{description}\n",
       "\\item[\\$names] \\begin{enumerate*}\n",
       "\\item 'call'\n",
       "\\item 'type'\n",
       "\\item 'predicted'\n",
       "\\item 'err.rate'\n",
       "\\item 'confusion'\n",
       "\\item 'votes'\n",
       "\\item 'oob.times'\n",
       "\\item 'classes'\n",
       "\\item 'importance'\n",
       "\\item 'importanceSD'\n",
       "\\item 'localImportance'\n",
       "\\item 'proximity'\n",
       "\\item 'ntree'\n",
       "\\item 'mtry'\n",
       "\\item 'forest'\n",
       "\\item 'y'\n",
       "\\item 'test'\n",
       "\\item 'inbag'\n",
       "\\item 'terms'\n",
       "\\end{enumerate*}\n",
       "\n",
       "\\item[\\$class] \\begin{enumerate*}\n",
       "\\item 'randomForest.formula'\n",
       "\\item 'randomForest'\n",
       "\\end{enumerate*}\n",
       "\n",
       "\\end{description}\n"
      ],
      "text/markdown": [
       "$names\n",
       ":   1. 'call'\n",
       "2. 'type'\n",
       "3. 'predicted'\n",
       "4. 'err.rate'\n",
       "5. 'confusion'\n",
       "6. 'votes'\n",
       "7. 'oob.times'\n",
       "8. 'classes'\n",
       "9. 'importance'\n",
       "10. 'importanceSD'\n",
       "11. 'localImportance'\n",
       "12. 'proximity'\n",
       "13. 'ntree'\n",
       "14. 'mtry'\n",
       "15. 'forest'\n",
       "16. 'y'\n",
       "17. 'test'\n",
       "18. 'inbag'\n",
       "19. 'terms'\n",
       "\n",
       "\n",
       "\n",
       "$class\n",
       ":   1. 'randomForest.formula'\n",
       "2. 'randomForest'\n",
       "\n",
       "\n",
       "\n",
       "\n",
       "\n"
      ],
      "text/plain": [
       "$names\n",
       " [1] \"call\"            \"type\"            \"predicted\"       \"err.rate\"       \n",
       " [5] \"confusion\"       \"votes\"           \"oob.times\"       \"classes\"        \n",
       " [9] \"importance\"      \"importanceSD\"    \"localImportance\" \"proximity\"      \n",
       "[13] \"ntree\"           \"mtry\"            \"forest\"          \"y\"              \n",
       "[17] \"test\"            \"inbag\"           \"terms\"          \n",
       "\n",
       "$class\n",
       "[1] \"randomForest.formula\" \"randomForest\"        \n"
      ]
     },
     "metadata": {},
     "output_type": "display_data"
    }
   ],
   "source": [
    "attributes(rf)"
   ]
  },
  {
   "cell_type": "code",
   "execution_count": 10,
   "id": "fb6fdb30",
   "metadata": {},
   "outputs": [
    {
     "data": {
      "text/html": [
       "<table class=\"dataframe\">\n",
       "<caption>A matrix: 2 × 3 of type dbl</caption>\n",
       "<thead>\n",
       "\t<tr><th></th><th scope=col>0</th><th scope=col>1</th><th scope=col>class.error</th></tr>\n",
       "</thead>\n",
       "<tbody>\n",
       "\t<tr><th scope=row>0</th><td>148503</td><td>4082</td><td>0.0267523</td></tr>\n",
       "\t<tr><th scope=row>1</th><td> 20129</td><td>4600</td><td>0.8139836</td></tr>\n",
       "</tbody>\n",
       "</table>\n"
      ],
      "text/latex": [
       "A matrix: 2 × 3 of type dbl\n",
       "\\begin{tabular}{r|lll}\n",
       "  & 0 & 1 & class.error\\\\\n",
       "\\hline\n",
       "\t0 & 148503 & 4082 & 0.0267523\\\\\n",
       "\t1 &  20129 & 4600 & 0.8139836\\\\\n",
       "\\end{tabular}\n"
      ],
      "text/markdown": [
       "\n",
       "A matrix: 2 × 3 of type dbl\n",
       "\n",
       "| <!--/--> | 0 | 1 | class.error |\n",
       "|---|---|---|---|\n",
       "| 0 | 148503 | 4082 | 0.0267523 |\n",
       "| 1 |  20129 | 4600 | 0.8139836 |\n",
       "\n"
      ],
      "text/plain": [
       "  0      1    class.error\n",
       "0 148503 4082 0.0267523  \n",
       "1  20129 4600 0.8139836  "
      ]
     },
     "metadata": {},
     "output_type": "display_data"
    }
   ],
   "source": [
    "rf$confusion"
   ]
  },
  {
   "cell_type": "code",
   "execution_count": 12,
   "id": "c49591e9",
   "metadata": {},
   "outputs": [
    {
     "name": "stderr",
     "output_type": "stream",
     "text": [
      "Installing package into ‘/usr/local/lib/R/site-library’\n",
      "(as ‘lib’ is unspecified)\n",
      "\n",
      "Warning message in install.packages(\"caret\", dependencies = TRUE):\n",
      "“'lib = \"/usr/local/lib/R/site-library\"' is not writable”\n"
     ]
    },
    {
     "ename": "ERROR",
     "evalue": "Error in install.packages(\"caret\", dependencies = TRUE): unable to install packages\n",
     "output_type": "error",
     "traceback": [
      "Error in install.packages(\"caret\", dependencies = TRUE): unable to install packages\nTraceback:\n",
      "1. install.packages(\"caret\", dependencies = TRUE)",
      "2. stop(\"unable to install packages\")"
     ]
    }
   ],
   "source": [
    "install.packages('caret', dependencies = TRUE)"
   ]
  },
  {
   "cell_type": "code",
   "execution_count": null,
   "id": "6fa1fb28",
   "metadata": {},
   "outputs": [],
   "source": []
  },
  {
   "cell_type": "code",
   "execution_count": null,
   "id": "cb35c053",
   "metadata": {},
   "outputs": [],
   "source": []
  },
  {
   "cell_type": "code",
   "execution_count": null,
   "id": "99109079",
   "metadata": {},
   "outputs": [],
   "source": []
  },
  {
   "cell_type": "code",
   "execution_count": null,
   "id": "97636346",
   "metadata": {},
   "outputs": [],
   "source": []
  },
  {
   "cell_type": "code",
   "execution_count": null,
   "id": "33ac4f83",
   "metadata": {},
   "outputs": [],
   "source": []
  },
  {
   "cell_type": "code",
   "execution_count": null,
   "id": "92f82428",
   "metadata": {},
   "outputs": [],
   "source": []
  }
 ],
 "metadata": {
  "kernelspec": {
   "display_name": "R",
   "language": "R",
   "name": "ir"
  },
  "language_info": {
   "codemirror_mode": "r",
   "file_extension": ".r",
   "mimetype": "text/x-r-source",
   "name": "R",
   "pygments_lexer": "r",
   "version": "3.6.3"
  }
 },
 "nbformat": 4,
 "nbformat_minor": 5
}
