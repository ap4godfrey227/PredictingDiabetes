{
 "cells": [
  {
   "cell_type": "markdown",
   "id": "89deec0e",
   "metadata": {},
   "source": [
    "# Introduction"
   ]
  },
  {
   "cell_type": "markdown",
   "id": "18b51f9f",
   "metadata": {},
   "source": [
    "* The data used for this project is from https://www.kaggle.com/datasets/alexteboul/diabetes-health-indicators-dataset?select=diabetes_binary_health_indicators_BRFSS2015.csv\n",
    "\n",
    "* This page is part of an adjacent project that tackles the same dataset but instead with a Random Forest approach"
   ]
  },
  {
   "cell_type": "markdown",
   "id": "a5fb56b2",
   "metadata": {},
   "source": [
    "As one of the most prevalent health issues facing many people today, Diabetes is a health condition that changes the way you gain energy from food. Generally speaking, a common cause of Diabetes, aside from genetics in some cases, is the excessive intake of sugary foods. However, there are other ways to determine the presence of Diabetes and even have early diagnoses of Pre-Diabetes. Today, I am looking to create an additional predictor by regressing a data model to predict if someone is at risk of getting Diabetes.\n",
    "\\\n",
    "\\\n",
    "The data used in the project, after being pre-cleaned by a generous Kaggle user, was obtained from an annual CDC health-related telephone survey from 2015 in which the dataset contains about 250,000 instances of citizens reporting answers to 22 different categorical-based questions, all of which seemingly revolve around Diabetes. Here we will use logistic regression in R to see if we can create an accurate prediction model.\n",
    "\\\n",
    "\\\n",
    "The questions in the data set that were asked include\n",
    "\n",
    "* Diabetes_binary: 0 is no diabetes, 1 is prediabetic, and 2 is diabetic\n",
    "* HighBP: 0 for no high blood pressure and 1 for high blood pressure\n",
    "* HighCol: 0 for no high cholesterol and 1 for high cholesterol\n",
    "* CholCheck: 0 for no cholesterol check in 5 years and 1 for a cholesterol check in 5 years\n",
    "* BMI: The BMI of the subject\n",
    "* Smoker: (0 == not smoked 100 cigarettes total)(1 == smoked at least 100 cigarettes)\n",
    "* Stroke: (0 == not had a stroke)(1 == had a stroke)\n",
    "* HeartDiseaseorAttack: (0 == not had heart disease/attack)(1 == had heart disease/attack)\n",
    "* PhysActivity: (0 == not had physical activity in the past 30 days)(1 == had physical activity in the past 30 days)\n",
    "* Fruits: (0 == not consumed at least 1 fruit a day)(1 == consumed at least 1 fruit a day)\n",
    "* Veggies: (0 == not consumed at least 1 vegetable a day)(1 == consumed at least 1 vegetable a day)\n",
    "* HvyAlcoholConsump: (0 == men<14 drinks per week, women<7 drinks per week)(1 == men>=14 drinks per week, women>=7 drinks per week)\n",
    "* AnyHealthcare: (0 == no healthcare)(1 == healthcare)\n",
    "* NoDocbcCost: (0 == did not go to doctor in the past year due to cost)(1 == did go to the doctor in the past year)\n",
    "* GenHlth: Rate general health 1-5 (1 = excellent, 5 = poor)\n",
    "* MentHlth: Days of poor mental health in the past 30 days (0-30)\n",
    "* PhysHlth: Days of poor physical health in the past 30 days (0-30)\n",
    "* DiffWalk: (0 == had no difficulty walking/climbing stairs)(1 == had difficulty walking/climbing stairs)\n",
    "* Sex: (0 == female)(1 == male)\n",
    "* Age: Age of subject\n",
    "* Education: (1 == no school/only kindergarten, 2 == elementary, etc. 1-6)\n",
    "* Income: (1 == less than $10,000, 8 == $75,000 or more, etc. 1-8)"
   ]
  },
  {
   "cell_type": "code",
   "execution_count": 1,
   "id": "b2632a0d",
   "metadata": {
    "scrolled": true
   },
   "outputs": [
    {
     "name": "stderr",
     "output_type": "stream",
     "text": [
      "Loading required package: Matrix\n",
      "Loading required package: foreach\n",
      "Loaded glmnet 2.0-16\n",
      "\n",
      "Warning message:\n",
      "\"package 'pROC' was built under R version 3.6.3\"Type 'citation(\"pROC\")' for a citation.\n",
      "\n",
      "Attaching package: 'pROC'\n",
      "\n",
      "The following object is masked from 'package:glmnet':\n",
      "\n",
      "    auc\n",
      "\n",
      "The following objects are masked from 'package:stats':\n",
      "\n",
      "    cov, smooth, var\n",
      "\n"
     ]
    }
   ],
   "source": [
    "library(digest)\n",
    "library(stringr)\n",
    "library(glmnet) #to do logistic regression with regularization\n",
    "library(latex2exp) #used for including some latex in plots\n",
    "library(pROC) #used for plotting ROC curve"
   ]
  },
  {
   "cell_type": "markdown",
   "id": "17e38809",
   "metadata": {},
   "source": [
    "### Importing and cleaning the data\n",
    "\\\n",
    "First we will go ahead and input the data and take a look at some metrics to determine if there is any additional cleaning that we need to perform.\n",
    "\n"
   ]
  },
  {
   "cell_type": "code",
   "execution_count": 2,
   "id": "a91af5be",
   "metadata": {
    "scrolled": true
   },
   "outputs": [
    {
     "data": {
      "text/html": [
       "<table>\n",
       "<thead><tr><th scope=col>Diabetes_binary</th><th scope=col>HighBP</th><th scope=col>HighChol</th><th scope=col>CholCheck</th><th scope=col>BMI</th><th scope=col>Smoker</th><th scope=col>Stroke</th><th scope=col>HeartDiseaseorAttack</th><th scope=col>PhysActivity</th><th scope=col>Fruits</th><th scope=col>...</th><th scope=col>AnyHealthcare</th><th scope=col>NoDocbcCost</th><th scope=col>GenHlth</th><th scope=col>MentHlth</th><th scope=col>PhysHlth</th><th scope=col>DiffWalk</th><th scope=col>Sex</th><th scope=col>Age</th><th scope=col>Education</th><th scope=col>Income</th></tr></thead>\n",
       "<tbody>\n",
       "\t<tr><td>0  </td><td>1  </td><td>1  </td><td>1  </td><td>40 </td><td>1  </td><td>0  </td><td>0  </td><td>0  </td><td>0  </td><td>...</td><td>1  </td><td>0  </td><td>5  </td><td>18 </td><td>15 </td><td>1  </td><td>0  </td><td> 9 </td><td>4  </td><td>3  </td></tr>\n",
       "\t<tr><td>0  </td><td>0  </td><td>0  </td><td>0  </td><td>25 </td><td>1  </td><td>0  </td><td>0  </td><td>1  </td><td>0  </td><td>...</td><td>0  </td><td>1  </td><td>3  </td><td> 0 </td><td> 0 </td><td>0  </td><td>0  </td><td> 7 </td><td>6  </td><td>1  </td></tr>\n",
       "\t<tr><td>0  </td><td>1  </td><td>1  </td><td>1  </td><td>28 </td><td>0  </td><td>0  </td><td>0  </td><td>0  </td><td>1  </td><td>...</td><td>1  </td><td>1  </td><td>5  </td><td>30 </td><td>30 </td><td>1  </td><td>0  </td><td> 9 </td><td>4  </td><td>8  </td></tr>\n",
       "\t<tr><td>0  </td><td>1  </td><td>0  </td><td>1  </td><td>27 </td><td>0  </td><td>0  </td><td>0  </td><td>1  </td><td>1  </td><td>...</td><td>1  </td><td>0  </td><td>2  </td><td> 0 </td><td> 0 </td><td>0  </td><td>0  </td><td>11 </td><td>3  </td><td>6  </td></tr>\n",
       "\t<tr><td>0  </td><td>1  </td><td>1  </td><td>1  </td><td>24 </td><td>0  </td><td>0  </td><td>0  </td><td>1  </td><td>1  </td><td>...</td><td>1  </td><td>0  </td><td>2  </td><td> 3 </td><td> 0 </td><td>0  </td><td>0  </td><td>11 </td><td>5  </td><td>4  </td></tr>\n",
       "\t<tr><td>0  </td><td>1  </td><td>1  </td><td>1  </td><td>25 </td><td>1  </td><td>0  </td><td>0  </td><td>1  </td><td>1  </td><td>...</td><td>1  </td><td>0  </td><td>2  </td><td> 0 </td><td> 2 </td><td>0  </td><td>1  </td><td>10 </td><td>6  </td><td>8  </td></tr>\n",
       "</tbody>\n",
       "</table>\n"
      ],
      "text/latex": [
       "\\begin{tabular}{r|llllllllllllllllllllll}\n",
       " Diabetes\\_binary & HighBP & HighChol & CholCheck & BMI & Smoker & Stroke & HeartDiseaseorAttack & PhysActivity & Fruits & ... & AnyHealthcare & NoDocbcCost & GenHlth & MentHlth & PhysHlth & DiffWalk & Sex & Age & Education & Income\\\\\n",
       "\\hline\n",
       "\t 0   & 1   & 1   & 1   & 40  & 1   & 0   & 0   & 0   & 0   & ... & 1   & 0   & 5   & 18  & 15  & 1   & 0   &  9  & 4   & 3  \\\\\n",
       "\t 0   & 0   & 0   & 0   & 25  & 1   & 0   & 0   & 1   & 0   & ... & 0   & 1   & 3   &  0  &  0  & 0   & 0   &  7  & 6   & 1  \\\\\n",
       "\t 0   & 1   & 1   & 1   & 28  & 0   & 0   & 0   & 0   & 1   & ... & 1   & 1   & 5   & 30  & 30  & 1   & 0   &  9  & 4   & 8  \\\\\n",
       "\t 0   & 1   & 0   & 1   & 27  & 0   & 0   & 0   & 1   & 1   & ... & 1   & 0   & 2   &  0  &  0  & 0   & 0   & 11  & 3   & 6  \\\\\n",
       "\t 0   & 1   & 1   & 1   & 24  & 0   & 0   & 0   & 1   & 1   & ... & 1   & 0   & 2   &  3  &  0  & 0   & 0   & 11  & 5   & 4  \\\\\n",
       "\t 0   & 1   & 1   & 1   & 25  & 1   & 0   & 0   & 1   & 1   & ... & 1   & 0   & 2   &  0  &  2  & 0   & 1   & 10  & 6   & 8  \\\\\n",
       "\\end{tabular}\n"
      ],
      "text/markdown": [
       "\n",
       "| Diabetes_binary | HighBP | HighChol | CholCheck | BMI | Smoker | Stroke | HeartDiseaseorAttack | PhysActivity | Fruits | ... | AnyHealthcare | NoDocbcCost | GenHlth | MentHlth | PhysHlth | DiffWalk | Sex | Age | Education | Income |\n",
       "|---|---|---|---|---|---|---|---|---|---|---|---|---|---|---|---|---|---|---|---|---|\n",
       "| 0   | 1   | 1   | 1   | 40  | 1   | 0   | 0   | 0   | 0   | ... | 1   | 0   | 5   | 18  | 15  | 1   | 0   |  9  | 4   | 3   |\n",
       "| 0   | 0   | 0   | 0   | 25  | 1   | 0   | 0   | 1   | 0   | ... | 0   | 1   | 3   |  0  |  0  | 0   | 0   |  7  | 6   | 1   |\n",
       "| 0   | 1   | 1   | 1   | 28  | 0   | 0   | 0   | 0   | 1   | ... | 1   | 1   | 5   | 30  | 30  | 1   | 0   |  9  | 4   | 8   |\n",
       "| 0   | 1   | 0   | 1   | 27  | 0   | 0   | 0   | 1   | 1   | ... | 1   | 0   | 2   |  0  |  0  | 0   | 0   | 11  | 3   | 6   |\n",
       "| 0   | 1   | 1   | 1   | 24  | 0   | 0   | 0   | 1   | 1   | ... | 1   | 0   | 2   |  3  |  0  | 0   | 0   | 11  | 5   | 4   |\n",
       "| 0   | 1   | 1   | 1   | 25  | 1   | 0   | 0   | 1   | 1   | ... | 1   | 0   | 2   |  0  |  2  | 0   | 1   | 10  | 6   | 8   |\n",
       "\n"
      ],
      "text/plain": [
       "  Diabetes_binary HighBP HighChol CholCheck BMI Smoker Stroke\n",
       "1 0               1      1        1         40  1      0     \n",
       "2 0               0      0        0         25  1      0     \n",
       "3 0               1      1        1         28  0      0     \n",
       "4 0               1      0        1         27  0      0     \n",
       "5 0               1      1        1         24  0      0     \n",
       "6 0               1      1        1         25  1      0     \n",
       "  HeartDiseaseorAttack PhysActivity Fruits ... AnyHealthcare NoDocbcCost\n",
       "1 0                    0            0      ... 1             0          \n",
       "2 0                    1            0      ... 0             1          \n",
       "3 0                    0            1      ... 1             1          \n",
       "4 0                    1            1      ... 1             0          \n",
       "5 0                    1            1      ... 1             0          \n",
       "6 0                    1            1      ... 1             0          \n",
       "  GenHlth MentHlth PhysHlth DiffWalk Sex Age Education Income\n",
       "1 5       18       15       1        0    9  4         3     \n",
       "2 3        0        0       0        0    7  6         1     \n",
       "3 5       30       30       1        0    9  4         8     \n",
       "4 2        0        0       0        0   11  3         6     \n",
       "5 2        3        0       0        0   11  5         4     \n",
       "6 2        0        2       0        1   10  6         8     "
      ]
     },
     "metadata": {},
     "output_type": "display_data"
    },
    {
     "data": {
      "text/html": [
       "<ol class=list-inline>\n",
       "\t<li>253680</li>\n",
       "\t<li>22</li>\n",
       "</ol>\n"
      ],
      "text/latex": [
       "\\begin{enumerate*}\n",
       "\\item 253680\n",
       "\\item 22\n",
       "\\end{enumerate*}\n"
      ],
      "text/markdown": [
       "1. 253680\n",
       "2. 22\n",
       "\n",
       "\n"
      ],
      "text/plain": [
       "[1] 253680     22"
      ]
     },
     "metadata": {},
     "output_type": "display_data"
    }
   ],
   "source": [
    "data = read.csv(\"diabetes_binary_health_indicators_BRFSS2015.csv\")\n",
    "head(data)\n",
    "dim(data)"
   ]
  },
  {
   "cell_type": "code",
   "execution_count": 3,
   "id": "a774be11",
   "metadata": {},
   "outputs": [
    {
     "data": {
      "text/html": [
       "0"
      ],
      "text/latex": [
       "0"
      ],
      "text/markdown": [
       "0"
      ],
      "text/plain": [
       "[1] 0"
      ]
     },
     "metadata": {},
     "output_type": "display_data"
    }
   ],
   "source": [
    "sum(is.na(data))"
   ]
  },
  {
   "cell_type": "markdown",
   "id": "24dfb36f",
   "metadata": {},
   "source": [
    "\n",
    "While the user before us did a fantastic job at making each instance void of data holes, in order to keep to our categorical nature, we need to adjust the data types of most of the variables. The only ones we will leave as ints are the BMI and the Age."
   ]
  },
  {
   "cell_type": "code",
   "execution_count": 4,
   "id": "3fb0abcc",
   "metadata": {},
   "outputs": [],
   "source": [
    "data[,c('Diabetes_binary','HighBP','HighChol','CholCheck',\n",
    "       'Smoker','Stroke','HeartDiseaseorAttack','PhysActivity',\n",
    "       'Fruits','Veggies','HvyAlcoholConsump','AnyHealthcare',\n",
    "       'NoDocbcCost','GenHlth','MentHlth','PhysHlth','DiffWalk',\n",
    "       'Sex','Education','Income')] = lapply(data[,c('Diabetes_binary','HighBP','HighChol','CholCheck',\n",
    "       'Smoker','Stroke','HeartDiseaseorAttack','PhysActivity',\n",
    "       'Fruits','Veggies','HvyAlcoholConsump','AnyHealthcare',\n",
    "       'NoDocbcCost','GenHlth','MentHlth','PhysHlth','DiffWalk',\n",
    "       'Sex','Education','Income')], FUN=as.factor)"
   ]
  },
  {
   "cell_type": "markdown",
   "id": "2f6f636c",
   "metadata": {},
   "source": [
    "Perfect! And now that we have everything in order we will go ahead and begin our path to creating a model.\n",
    "\n",
    "# Prepping Data for Model\n",
    "\n",
    "\\\n",
    "After setting a seed to keep results reproducable, we will elect to use a standard 70-30 split on the train and test data."
   ]
  },
  {
   "cell_type": "code",
   "execution_count": 5,
   "id": "3ca24975",
   "metadata": {},
   "outputs": [
    {
     "data": {
      "text/html": [
       "<ol class=list-inline>\n",
       "\t<li>253680</li>\n",
       "\t<li>22</li>\n",
       "</ol>\n"
      ],
      "text/latex": [
       "\\begin{enumerate*}\n",
       "\\item 253680\n",
       "\\item 22\n",
       "\\end{enumerate*}\n"
      ],
      "text/markdown": [
       "1. 253680\n",
       "2. 22\n",
       "\n",
       "\n"
      ],
      "text/plain": [
       "[1] 253680     22"
      ]
     },
     "metadata": {},
     "output_type": "display_data"
    },
    {
     "data": {
      "text/plain": [
       "[1] proportion of train data: 0.7"
      ]
     },
     "metadata": {},
     "output_type": "display_data"
    },
    {
     "data": {
      "text/plain": [
       "[1] proportion of test data: 0.3"
      ]
     },
     "metadata": {},
     "output_type": "display_data"
    }
   ],
   "source": [
    "set.seed(227)\n",
    "trainidx = sample(1:nrow(data),size=0.7*nrow(data),replace=FALSE)\n",
    "\n",
    "\n",
    "train = data[trainidx, ]\n",
    "test = data[-trainidx, ]\n",
    "\n",
    "dim(data)\n",
    "\n",
    "#verify proportions\n",
    "noquote(paste(\"proportion of train data:\",nrow(train)/nrow(data)))\n",
    "noquote(paste(\"proportion of test data:\",nrow(test)/nrow(data)))"
   ]
  },
  {
   "cell_type": "code",
   "execution_count": 6,
   "id": "83e109fe",
   "metadata": {},
   "outputs": [
    {
     "data": {
      "text/html": [
       "<ol class=list-inline>\n",
       "\t<li>177576</li>\n",
       "\t<li>21</li>\n",
       "</ol>\n"
      ],
      "text/latex": [
       "\\begin{enumerate*}\n",
       "\\item 177576\n",
       "\\item 21\n",
       "\\end{enumerate*}\n"
      ],
      "text/markdown": [
       "1. 177576\n",
       "2. 21\n",
       "\n",
       "\n"
      ],
      "text/plain": [
       "[1] 177576     21"
      ]
     },
     "metadata": {},
     "output_type": "display_data"
    }
   ],
   "source": [
    "#get response vector y and predictor matrix (in fact, data frame) X from diabetes data\n",
    "y = train$Diabetes_binary\n",
    "X = train[ ,!(names(train) %in% \"Diabetes_binary\")] #all but Diabetes_binary\n",
    "dim(X)"
   ]
  },
  {
   "cell_type": "code",
   "execution_count": 7,
   "id": "caa61c37",
   "metadata": {},
   "outputs": [
    {
     "name": "stdout",
     "output_type": "stream",
     "text": [
      "'data.frame':\t177576 obs. of  21 variables:\n",
      " $ HighBP              : Factor w/ 2 levels \"0\",\"1\": 2 1 1 2 1 1 1 2 1 1 ...\n",
      " $ HighChol            : Factor w/ 2 levels \"0\",\"1\": 2 1 2 1 2 1 1 2 1 1 ...\n",
      " $ CholCheck           : Factor w/ 2 levels \"0\",\"1\": 2 2 2 2 2 2 2 2 2 1 ...\n",
      " $ BMI                 : num  32 20 22 31 27 28 22 26 25 24 ...\n",
      " $ Smoker              : Factor w/ 2 levels \"0\",\"1\": 1 1 1 2 2 1 1 2 1 2 ...\n",
      " $ Stroke              : Factor w/ 2 levels \"0\",\"1\": 1 1 1 1 1 1 1 1 1 1 ...\n",
      " $ HeartDiseaseorAttack: Factor w/ 2 levels \"0\",\"1\": 1 1 1 1 1 1 1 1 1 1 ...\n",
      " $ PhysActivity        : Factor w/ 2 levels \"0\",\"1\": 2 1 1 2 2 2 2 1 2 2 ...\n",
      " $ Fruits              : Factor w/ 2 levels \"0\",\"1\": 2 2 2 2 1 2 1 2 2 1 ...\n",
      " $ Veggies             : Factor w/ 2 levels \"0\",\"1\": 2 2 2 2 2 2 2 2 2 2 ...\n",
      " $ HvyAlcoholConsump   : Factor w/ 2 levels \"0\",\"1\": 1 1 1 1 1 1 1 1 1 1 ...\n",
      " $ AnyHealthcare       : Factor w/ 2 levels \"0\",\"1\": 1 2 2 2 2 2 2 2 2 2 ...\n",
      " $ NoDocbcCost         : Factor w/ 2 levels \"0\",\"1\": 1 1 1 1 1 1 2 1 1 1 ...\n",
      " $ GenHlth             : Factor w/ 5 levels \"1\",\"2\",\"3\",\"4\",..: 3 2 1 3 2 1 1 3 1 2 ...\n",
      " $ MentHlth            : Factor w/ 31 levels \"0\",\"1\",\"2\",\"3\",..: 1 1 6 1 3 1 31 1 1 6 ...\n",
      " $ PhysHlth            : Factor w/ 31 levels \"0\",\"1\",\"2\",\"3\",..: 3 3 1 4 11 1 1 1 1 8 ...\n",
      " $ DiffWalk            : Factor w/ 2 levels \"0\",\"1\": 1 1 1 2 1 1 1 1 1 1 ...\n",
      " $ Sex                 : Factor w/ 2 levels \"0\",\"1\": 1 1 1 1 2 2 2 2 2 1 ...\n",
      " $ Age                 : num  9 7 8 11 5 12 3 13 4 4 ...\n",
      " $ Education           : Factor w/ 6 levels \"1\",\"2\",\"3\",\"4\",..: 4 4 5 5 6 5 6 4 6 6 ...\n",
      " $ Income              : Factor w/ 8 levels \"1\",\"2\",\"3\",\"4\",..: 7 3 7 7 8 8 4 7 4 6 ...\n"
     ]
    }
   ],
   "source": [
    "str(X)"
   ]
  },
  {
   "cell_type": "code",
   "execution_count": 8,
   "id": "0e50fce8",
   "metadata": {},
   "outputs": [
    {
     "data": {
      "text/html": [
       "<ol class=list-inline>\n",
       "\t<li>177576</li>\n",
       "\t<li>92</li>\n",
       "</ol>\n"
      ],
      "text/latex": [
       "\\begin{enumerate*}\n",
       "\\item 177576\n",
       "\\item 92\n",
       "\\end{enumerate*}\n"
      ],
      "text/markdown": [
       "1. 177576\n",
       "2. 92\n",
       "\n",
       "\n"
      ],
      "text/plain": [
       "[1] 177576     92"
      ]
     },
     "metadata": {},
     "output_type": "display_data"
    },
    {
     "data": {
      "text/html": [
       "<table>\n",
       "<thead><tr><th></th><th scope=col>HighBP1</th><th scope=col>HighChol1</th><th scope=col>CholCheck1</th><th scope=col>BMI</th><th scope=col>Smoker1</th><th scope=col>Stroke1</th><th scope=col>HeartDiseaseorAttack1</th><th scope=col>PhysActivity1</th><th scope=col>Fruits1</th><th scope=col>Veggies1</th><th scope=col>...</th><th scope=col>Education4</th><th scope=col>Education5</th><th scope=col>Education6</th><th scope=col>Income2</th><th scope=col>Income3</th><th scope=col>Income4</th><th scope=col>Income5</th><th scope=col>Income6</th><th scope=col>Income7</th><th scope=col>Income8</th></tr></thead>\n",
       "<tbody>\n",
       "\t<tr><th scope=row>134529</th><td>1  </td><td>1  </td><td>1  </td><td>32 </td><td>0  </td><td>0  </td><td>0  </td><td>1  </td><td>1  </td><td>1  </td><td>...</td><td>1  </td><td>0  </td><td>0  </td><td>0  </td><td>0  </td><td>0  </td><td>0  </td><td>0  </td><td>1  </td><td>0  </td></tr>\n",
       "\t<tr><th scope=row>155353</th><td>0  </td><td>0  </td><td>1  </td><td>20 </td><td>0  </td><td>0  </td><td>0  </td><td>0  </td><td>1  </td><td>1  </td><td>...</td><td>1  </td><td>0  </td><td>0  </td><td>0  </td><td>1  </td><td>0  </td><td>0  </td><td>0  </td><td>0  </td><td>0  </td></tr>\n",
       "\t<tr><th scope=row>214608</th><td>0  </td><td>1  </td><td>1  </td><td>22 </td><td>0  </td><td>0  </td><td>0  </td><td>0  </td><td>1  </td><td>1  </td><td>...</td><td>0  </td><td>1  </td><td>0  </td><td>0  </td><td>0  </td><td>0  </td><td>0  </td><td>0  </td><td>1  </td><td>0  </td></tr>\n",
       "\t<tr><th scope=row>82275</th><td>1  </td><td>0  </td><td>1  </td><td>31 </td><td>1  </td><td>0  </td><td>0  </td><td>1  </td><td>1  </td><td>1  </td><td>...</td><td>0  </td><td>1  </td><td>0  </td><td>0  </td><td>0  </td><td>0  </td><td>0  </td><td>0  </td><td>1  </td><td>0  </td></tr>\n",
       "\t<tr><th scope=row>70691</th><td>0  </td><td>1  </td><td>1  </td><td>27 </td><td>1  </td><td>0  </td><td>0  </td><td>1  </td><td>0  </td><td>1  </td><td>...</td><td>0  </td><td>0  </td><td>1  </td><td>0  </td><td>0  </td><td>0  </td><td>0  </td><td>0  </td><td>0  </td><td>1  </td></tr>\n",
       "</tbody>\n",
       "</table>\n"
      ],
      "text/latex": [
       "\\begin{tabular}{r|llllllllllllllllllllllllllllllllllllllllllllllllllllllllllllllllllllllllllllllllllllllllllll}\n",
       "  & HighBP1 & HighChol1 & CholCheck1 & BMI & Smoker1 & Stroke1 & HeartDiseaseorAttack1 & PhysActivity1 & Fruits1 & Veggies1 & ... & Education4 & Education5 & Education6 & Income2 & Income3 & Income4 & Income5 & Income6 & Income7 & Income8\\\\\n",
       "\\hline\n",
       "\t134529 & 1   & 1   & 1   & 32  & 0   & 0   & 0   & 1   & 1   & 1   & ... & 1   & 0   & 0   & 0   & 0   & 0   & 0   & 0   & 1   & 0  \\\\\n",
       "\t155353 & 0   & 0   & 1   & 20  & 0   & 0   & 0   & 0   & 1   & 1   & ... & 1   & 0   & 0   & 0   & 1   & 0   & 0   & 0   & 0   & 0  \\\\\n",
       "\t214608 & 0   & 1   & 1   & 22  & 0   & 0   & 0   & 0   & 1   & 1   & ... & 0   & 1   & 0   & 0   & 0   & 0   & 0   & 0   & 1   & 0  \\\\\n",
       "\t82275 & 1   & 0   & 1   & 31  & 1   & 0   & 0   & 1   & 1   & 1   & ... & 0   & 1   & 0   & 0   & 0   & 0   & 0   & 0   & 1   & 0  \\\\\n",
       "\t70691 & 0   & 1   & 1   & 27  & 1   & 0   & 0   & 1   & 0   & 1   & ... & 0   & 0   & 1   & 0   & 0   & 0   & 0   & 0   & 0   & 1  \\\\\n",
       "\\end{tabular}\n"
      ],
      "text/markdown": [
       "\n",
       "| <!--/--> | HighBP1 | HighChol1 | CholCheck1 | BMI | Smoker1 | Stroke1 | HeartDiseaseorAttack1 | PhysActivity1 | Fruits1 | Veggies1 | ... | Education4 | Education5 | Education6 | Income2 | Income3 | Income4 | Income5 | Income6 | Income7 | Income8 |\n",
       "|---|---|---|---|---|---|---|---|---|---|---|---|---|---|---|---|---|---|---|---|---|---|\n",
       "| 134529 | 1   | 1   | 1   | 32  | 0   | 0   | 0   | 1   | 1   | 1   | ... | 1   | 0   | 0   | 0   | 0   | 0   | 0   | 0   | 1   | 0   |\n",
       "| 155353 | 0   | 0   | 1   | 20  | 0   | 0   | 0   | 0   | 1   | 1   | ... | 1   | 0   | 0   | 0   | 1   | 0   | 0   | 0   | 0   | 0   |\n",
       "| 214608 | 0   | 1   | 1   | 22  | 0   | 0   | 0   | 0   | 1   | 1   | ... | 0   | 1   | 0   | 0   | 0   | 0   | 0   | 0   | 1   | 0   |\n",
       "| 82275 | 1   | 0   | 1   | 31  | 1   | 0   | 0   | 1   | 1   | 1   | ... | 0   | 1   | 0   | 0   | 0   | 0   | 0   | 0   | 1   | 0   |\n",
       "| 70691 | 0   | 1   | 1   | 27  | 1   | 0   | 0   | 1   | 0   | 1   | ... | 0   | 0   | 1   | 0   | 0   | 0   | 0   | 0   | 0   | 1   |\n",
       "\n"
      ],
      "text/plain": [
       "       HighBP1 HighChol1 CholCheck1 BMI Smoker1 Stroke1 HeartDiseaseorAttack1\n",
       "134529 1       1         1          32  0       0       0                    \n",
       "155353 0       0         1          20  0       0       0                    \n",
       "214608 0       1         1          22  0       0       0                    \n",
       "82275  1       0         1          31  1       0       0                    \n",
       "70691  0       1         1          27  1       0       0                    \n",
       "       PhysActivity1 Fruits1 Veggies1 ... Education4 Education5 Education6\n",
       "134529 1             1       1        ... 1          0          0         \n",
       "155353 0             1       1        ... 1          0          0         \n",
       "214608 0             1       1        ... 0          1          0         \n",
       "82275  1             1       1        ... 0          1          0         \n",
       "70691  1             0       1        ... 0          0          1         \n",
       "       Income2 Income3 Income4 Income5 Income6 Income7 Income8\n",
       "134529 0       0       0       0       0       1       0      \n",
       "155353 0       1       0       0       0       0       0      \n",
       "214608 0       0       0       0       0       1       0      \n",
       "82275  0       0       0       0       0       1       0      \n",
       "70691  0       0       0       0       0       0       1      "
      ]
     },
     "metadata": {},
     "output_type": "display_data"
    }
   ],
   "source": [
    "# make sure X does not contain response values\n",
    "X = model.matrix( ~ . , data=X)[,-1]\n",
    "\n",
    "dim(X)\n",
    "\n",
    "X[1:5,]"
   ]
  },
  {
   "cell_type": "markdown",
   "id": "58846033",
   "metadata": {},
   "source": [
    "# Logistic Regression with Lasso Regulation\n",
    "\n",
    "\\\n",
    "I chose to utilize Lasso Regulation as, unlike Ridge Regulation, it allows possible useless variables to have their biases reduced to zero if the model deems it fit. So we will go ahead and begin the process"
   ]
  },
  {
   "cell_type": "code",
   "execution_count": 9,
   "id": "111b23eb",
   "metadata": {},
   "outputs": [],
   "source": [
    "mylambda=seq(0,2,by=0.005) \n",
    "\n",
    "cvfit = cv.glmnet(X,y,family = \"binomial\",lambda=mylambda,type.measure=\"deviance\", nfolds = 10, alpha = 1) "
   ]
  },
  {
   "cell_type": "code",
   "execution_count": 10,
   "id": "bde397f8",
   "metadata": {},
   "outputs": [
    {
     "data": {
      "text/plain": [
       "93 x 1 sparse Matrix of class \"dgCMatrix\"\n",
       "                                 1\n",
       "(Intercept)           -7.685663426\n",
       "HighBP1                0.735624172\n",
       "HighChol1              0.590711167\n",
       "CholCheck1             1.243553236\n",
       "BMI                    0.059704766\n",
       "Smoker1               -0.013467092\n",
       "Stroke1                0.155033226\n",
       "HeartDiseaseorAttack1  0.205638974\n",
       "PhysActivity1         -0.050756261\n",
       "Fruits1               -0.058693261\n",
       "Veggies1              -0.023860199\n",
       "HvyAlcoholConsump1    -0.719403949\n",
       "AnyHealthcare1         0.098696778\n",
       "NoDocbcCost1           0.029714451\n",
       "GenHlth2               0.697502669\n",
       "GenHlth3               1.402443808\n",
       "GenHlth4               1.825803851\n",
       "GenHlth5               2.000134425\n",
       "MentHlth1             -0.186397775\n",
       "MentHlth2             -0.123685092\n",
       "MentHlth3             -0.142892373\n",
       "MentHlth4             -0.080851855\n",
       "MentHlth5             -0.153322363\n",
       "MentHlth6              0.034281881\n",
       "MentHlth7             -0.100292366\n",
       "MentHlth8              0.166418029\n",
       "MentHlth9             -0.521153459\n",
       "MentHlth10            -0.084220629\n",
       "MentHlth11            -1.091976795\n",
       "MentHlth12             0.034477527\n",
       "MentHlth13             0.476203308\n",
       "MentHlth14             0.017271816\n",
       "MentHlth15            -0.135857772\n",
       "MentHlth16            -0.220978204\n",
       "MentHlth17            -0.147178388\n",
       "MentHlth18            -0.055951607\n",
       "MentHlth19             0.048525049\n",
       "MentHlth20            -0.062349702\n",
       "MentHlth21            -0.002259874\n",
       "MentHlth22            -0.521376097\n",
       "MentHlth23             0.369386148\n",
       "MentHlth24            -0.448257652\n",
       "MentHlth25            -0.093562373\n",
       "MentHlth26            -0.634335253\n",
       "MentHlth27            -0.126980083\n",
       "MentHlth28            -0.265915878\n",
       "MentHlth29            -0.036009023\n",
       "MentHlth30            -0.070178697\n",
       "PhysHlth1              0.079243687\n",
       "PhysHlth2              0.117248960\n",
       "PhysHlth3              0.022446837\n",
       "PhysHlth4              0.008690595\n",
       "PhysHlth5              0.021238463\n",
       "PhysHlth6             -0.014739835\n",
       "PhysHlth7             -0.077162724\n",
       "PhysHlth8             -0.096809255\n",
       "PhysHlth9             -0.436099219\n",
       "PhysHlth10             0.038388159\n",
       "PhysHlth11            -0.817822582\n",
       "PhysHlth12            -0.158942965\n",
       "PhysHlth13            -0.316520398\n",
       "PhysHlth14            -0.092693767\n",
       "PhysHlth15             0.020276012\n",
       "PhysHlth16             0.298832746\n",
       "PhysHlth17             0.491163503\n",
       "PhysHlth18             0.153247108\n",
       "PhysHlth19            -1.225240089\n",
       "PhysHlth20             0.024920093\n",
       "PhysHlth21            -0.033585458\n",
       "PhysHlth22             0.259785279\n",
       "PhysHlth23             0.255286973\n",
       "PhysHlth24            -0.333908897\n",
       "PhysHlth25            -0.014438312\n",
       "PhysHlth26             0.539187953\n",
       "PhysHlth27            -0.305211057\n",
       "PhysHlth28            -0.124045413\n",
       "PhysHlth29            -0.033032837\n",
       "PhysHlth30            -0.063933384\n",
       "DiffWalk1              0.134380065\n",
       "Sex1                   0.259599689\n",
       "Age                    0.120541751\n",
       "Education2             0.115705246\n",
       "Education3             0.001845469\n",
       "Education4            -0.027832227\n",
       "Education5             0.027492837\n",
       "Education6            -0.053120022\n",
       "Income2               -0.021347759\n",
       "Income3               -0.046546864\n",
       "Income4               -0.095462821\n",
       "Income5               -0.173951630\n",
       "Income6               -0.251731717\n",
       "Income7               -0.227631234\n",
       "Income8               -0.390805772"
      ]
     },
     "metadata": {},
     "output_type": "display_data"
    }
   ],
   "source": [
    "coef(cvfit)"
   ]
  },
  {
   "cell_type": "code",
   "execution_count": 11,
   "id": "07fb3b65",
   "metadata": {},
   "outputs": [
    {
     "name": "stderr",
     "output_type": "stream",
     "text": [
      "Warning message in regularize.values(x, y, ties, missing(ties)):\n",
      "\"collapsing to unique 'x' values\""
     ]
    },
    {
     "data": {
      "image/png": "[encoded data removed]",
      "text/plain": [
       "plot without title"
      ]
     },
     "metadata": {},
     "output_type": "display_data"
    },
    {
     "data": {
      "image/png": "[encoded data removed]",
      "text/plain": [
       "plot without title"
      ]
     },
     "metadata": {},
     "output_type": "display_data"
    }
   ],
   "source": [
    "#plot Lasso based on deviance measure\n",
    "plot(cvfit)  #note on x-axis in the plot is log(lambda), not log(1/lambda)\n",
    "\n",
    "#plot coefficients for various models; ignore the warning message\n",
    "plot(cvfit$glmnet.fit)"
   ]
  },
  {
   "cell_type": "code",
   "execution_count": 12,
   "id": "42f2962b",
   "metadata": {},
   "outputs": [
    {
     "data": {
      "image/png": "[encoded data removed]",
      "text/plain": [
       "Plot with title \"\"Number of Non-zero Coeff's for Each \" * lambda\""
      ]
     },
     "metadata": {},
     "output_type": "display_data"
    }
   ],
   "source": [
    "##Number of non-zero coefficients vs. $\\lambda$\n",
    "\n",
    "plot(cvfit$glmnet$lambda,cvfit$glmnet$df, \n",
    "     main=TeX(\"Number of Non-zero Coeff's for Each $\\\\lambda$\"),pch=16)\n",
    "abline(v=cvfit$lambda.min,col=\"red\",lty=\"dashed\")\n",
    "abline(v=cvfit$lambda.1se,col=\"blue\",lty=\"dashed\")"
   ]
  },
  {
   "cell_type": "markdown",
   "id": "0a887424",
   "metadata": {},
   "source": [
    "### Interpretation\n",
    "\n",
    "So as we can see from the graphs, the lasso regulation on the pure data set did reduce many of the coefficients to low values, but none quite yet to zero. Additionally there does seem to be a handful of variables that are more significant then the majority. But now we need to see how well it fares against the test data."
   ]
  },
  {
   "cell_type": "code",
   "execution_count": 13,
   "id": "8b831d6e",
   "metadata": {},
   "outputs": [],
   "source": [
    "ytest = test$Diabetes_binary\n",
    "Xtest = test[ ,!(names(test) %in% \"Diabetes_binary\")]\n",
    "\n",
    "Xtest = model.matrix( ~ ., data=Xtest)[,-1]\n",
    "pihat = predict(object=cvfit, newx = Xtest, type=\"response\")"
   ]
  },
  {
   "cell_type": "code",
   "execution_count": 14,
   "id": "b6a92096",
   "metadata": {},
   "outputs": [
    {
     "name": "stderr",
     "output_type": "stream",
     "text": [
      "Setting levels: control = FALSE, case = TRUE\n",
      "Warning message in roc.default(response = ylogical, predictor = pihat):\n",
      "\"Deprecated use a matrix as predictor. Unexpected results may be produced, please pass a numeric vector.\"Setting direction: controls < cases\n"
     ]
    },
    {
     "data": {
      "image/png": "[encoded data removed]",
      "text/plain": [
       "Plot with title \"AUC =  0.82\""
      ]
     },
     "metadata": {},
     "output_type": "display_data"
    }
   ],
   "source": [
    "ylogical = (ytest == 1)\n",
    "ROCcrv = roc(response=ylogical, predictor=pihat)\n",
    "AUC = auc(ROCcrv)\n",
    "\n",
    "plot(x=ROCcrv$specificities,y=ROCcrv$sensitivities, main=paste(\"AUC = \",round(AUC,2)), \n",
    "     xlab=\"Specificity (decreasing order!)\", ylab=\"Sensitivity\", xlim=c(1,0), type=\"l\", col=\"red\")"
   ]
  },
  {
   "cell_type": "code",
   "execution_count": 15,
   "id": "a3d310cb",
   "metadata": {},
   "outputs": [
    {
     "data": {
      "text/plain": [
       "    ytest\n",
       "yhat     0     1\n",
       "   0 64224  8902\n",
       "   1  1391  1587"
      ]
     },
     "metadata": {},
     "output_type": "display_data"
    }
   ],
   "source": [
    "yhat = ifelse(pihat>0.5,\"1\",\"0\")\n",
    "tbl = table(yhat, ytest)\n",
    "\n",
    "tbl"
   ]
  },
  {
   "cell_type": "code",
   "execution_count": 16,
   "id": "92c05377",
   "metadata": {},
   "outputs": [],
   "source": [
    "acc = (tbl[1,1]+tbl[2,2])/sum(tbl)\n",
    "\n",
    "FNR = tbl[1,2]/sum(tbl[,2])"
   ]
  },
  {
   "cell_type": "code",
   "execution_count": 17,
   "id": "9907a1c2",
   "metadata": {},
   "outputs": [
    {
     "data": {
      "text/html": [
       "0.864750867234311"
      ],
      "text/latex": [
       "0.864750867234311"
      ],
      "text/markdown": [
       "0.864750867234311"
      ],
      "text/plain": [
       "[1] 0.8647509"
      ]
     },
     "metadata": {},
     "output_type": "display_data"
    }
   ],
   "source": [
    "acc"
   ]
  },
  {
   "cell_type": "code",
   "execution_count": 18,
   "id": "30d52927",
   "metadata": {},
   "outputs": [
    {
     "data": {
      "text/html": [
       "0.848698636666984"
      ],
      "text/latex": [
       "0.848698636666984"
      ],
      "text/markdown": [
       "0.848698636666984"
      ],
      "text/plain": [
       "[1] 0.8486986"
      ]
     },
     "metadata": {},
     "output_type": "display_data"
    }
   ],
   "source": [
    "FNR"
   ]
  },
  {
   "cell_type": "markdown",
   "id": "fdd19241",
   "metadata": {},
   "source": [
    "Yikes! High accuracy but also a high false negative rate. Especially since we are dealing with a serious illness, we need to think of something to reduce that rate. Let's take a look at the response variable composition and see if there's anything fishy."
   ]
  },
  {
   "cell_type": "code",
   "execution_count": 49,
   "id": "7f5c69bf",
   "metadata": {},
   "outputs": [
    {
     "data": {
      "text/plain": [
       "\n",
       "     0      1 \n",
       "218334  35346 "
      ]
     },
     "metadata": {},
     "output_type": "display_data"
    }
   ],
   "source": [
    "table(data$Diabetes_binary)"
   ]
  },
  {
   "cell_type": "markdown",
   "id": "7724d1f3",
   "metadata": {},
   "source": [
    "Well that would be a reason as to why the model is so off. Because the response variable is not balanced, this introduces a lot of bias to the machine, making it more likely to choose one side over the other off of pure population instead of other variables. To address this, we are going to have to try to balance the response variable."
   ]
  },
  {
   "cell_type": "markdown",
   "id": "0d8f8d75",
   "metadata": {},
   "source": [
    "# Data Balancing\n",
    "\n",
    "\\\n",
    "There are different kinds of balancing that we can do and we are going to try two options: down-sampling and up-sampling.\n",
    "\n",
    "* Down-sampling: Sampling the dataset to use all of the minority data values but only a sample of the majority values equal to the minority total\n",
    "* Up-sampling: Sampling the dataset to use all of the majority data values and then sample of the minority values with replacement to equal to the majority total\n",
    "\n",
    "\\\n",
    "Let's start with down-sampling"
   ]
  },
  {
   "cell_type": "code",
   "execution_count": 19,
   "id": "30e7810e",
   "metadata": {},
   "outputs": [
    {
     "name": "stderr",
     "output_type": "stream",
     "text": [
      "Loading required package: lattice\n",
      "Loading required package: ggplot2\n",
      "Registered S3 methods overwritten by 'ggplot2':\n",
      "  method         from \n",
      "  [.quosures     rlang\n",
      "  c.quosures     rlang\n",
      "  print.quosures rlang\n"
     ]
    }
   ],
   "source": [
    "library(caret)"
   ]
  },
  {
   "cell_type": "code",
   "execution_count": 20,
   "id": "d61ad426",
   "metadata": {},
   "outputs": [
    {
     "name": "stdout",
     "output_type": "stream",
     "text": [
      "'data.frame':\t70692 obs. of  22 variables:\n",
      " $ HighBP              : Factor w/ 2 levels \"0\",\"1\": 1 1 2 1 2 1 2 2 2 1 ...\n",
      " $ HighChol            : Factor w/ 2 levels \"0\",\"1\": 1 2 1 1 1 1 1 1 1 1 ...\n",
      " $ CholCheck           : Factor w/ 2 levels \"0\",\"1\": 2 2 2 2 2 2 2 2 2 1 ...\n",
      " $ BMI                 : num  33 40 28 27 48 23 24 42 30 20 ...\n",
      " $ Smoker              : Factor w/ 2 levels \"0\",\"1\": 1 2 1 2 1 2 2 1 1 2 ...\n",
      " $ Stroke              : Factor w/ 2 levels \"0\",\"1\": 1 1 1 1 1 1 2 1 1 1 ...\n",
      " $ HeartDiseaseorAttack: Factor w/ 2 levels \"0\",\"1\": 1 1 1 1 1 1 2 1 1 1 ...\n",
      " $ PhysActivity        : Factor w/ 2 levels \"0\",\"1\": 2 2 2 2 2 2 2 2 2 2 ...\n",
      " $ Fruits              : Factor w/ 2 levels \"0\",\"1\": 2 1 1 1 1 2 1 1 1 2 ...\n",
      " $ Veggies             : Factor w/ 2 levels \"0\",\"1\": 2 1 1 1 2 2 2 2 1 2 ...\n",
      " $ HvyAlcoholConsump   : Factor w/ 2 levels \"0\",\"1\": 1 1 1 1 1 1 1 2 1 1 ...\n",
      " $ AnyHealthcare       : Factor w/ 2 levels \"0\",\"1\": 2 2 2 1 2 2 2 2 2 2 ...\n",
      " $ NoDocbcCost         : Factor w/ 2 levels \"0\",\"1\": 1 1 1 1 1 1 1 1 1 2 ...\n",
      " $ GenHlth             : Factor w/ 5 levels \"1\",\"2\",\"3\",\"4\",..: 3 4 2 3 1 2 3 3 2 2 ...\n",
      " $ MentHlth            : Factor w/ 31 levels \"0\",\"1\",\"2\",\"3\",..: 1 1 5 1 1 1 1 1 1 31 ...\n",
      " $ PhysHlth            : Factor w/ 31 levels \"0\",\"1\",\"2\",\"3\",..: 1 1 4 1 1 1 1 1 1 1 ...\n",
      " $ DiffWalk            : Factor w/ 2 levels \"0\",\"1\": 1 1 1 1 1 1 1 1 1 1 ...\n",
      " $ Sex                 : Factor w/ 2 levels \"0\",\"1\": 1 1 2 2 1 2 2 2 2 1 ...\n",
      " $ Age                 : num  8 9 7 4 10 11 12 6 5 1 ...\n",
      " $ Education           : Factor w/ 6 levels \"1\",\"2\",\"3\",\"4\",..: 6 5 6 5 4 6 6 4 5 5 ...\n",
      " $ Income              : Factor w/ 8 levels \"1\",\"2\",\"3\",\"4\",..: 8 5 8 6 2 8 8 7 8 3 ...\n",
      " $ Diabetes_binary     : Factor w/ 2 levels \"0\",\"1\": 1 1 1 1 1 1 1 1 1 1 ...\n"
     ]
    }
   ],
   "source": [
    "# Ensure the input data does not have response variable answers\n",
    "down_data = downSample(data[,-1], data$Diabetes_binary, yname=\"Diabetes_binary\")\n",
    "str(down_data)"
   ]
  },
  {
   "cell_type": "markdown",
   "id": "ad1a8269",
   "metadata": {},
   "source": [
    "Now that we've down-sampled, we just repeat the process as usual just with the down_data set instead."
   ]
  },
  {
   "cell_type": "code",
   "execution_count": 21,
   "id": "e3f947da",
   "metadata": {},
   "outputs": [
    {
     "data": {
      "text/html": [
       "<ol class=list-inline>\n",
       "\t<li>70692</li>\n",
       "\t<li>22</li>\n",
       "</ol>\n"
      ],
      "text/latex": [
       "\\begin{enumerate*}\n",
       "\\item 70692\n",
       "\\item 22\n",
       "\\end{enumerate*}\n"
      ],
      "text/markdown": [
       "1. 70692\n",
       "2. 22\n",
       "\n",
       "\n"
      ],
      "text/plain": [
       "[1] 70692    22"
      ]
     },
     "metadata": {},
     "output_type": "display_data"
    },
    {
     "data": {
      "text/plain": [
       "[1] proportion of train data: 0.699994341651106"
      ]
     },
     "metadata": {},
     "output_type": "display_data"
    },
    {
     "data": {
      "text/plain": [
       "[1] proportion of test data: 0.300005658348894"
      ]
     },
     "metadata": {},
     "output_type": "display_data"
    }
   ],
   "source": [
    "set.seed(227)\n",
    "trainidx = sample(1:nrow(down_data),size=0.7*nrow(down_data),replace=FALSE)\n",
    "\n",
    "\n",
    "train = down_data[trainidx, ]\n",
    "test = down_data[-trainidx, ]\n",
    "\n",
    "dim(down_data)\n",
    "\n",
    "#verify proportions\n",
    "noquote(paste(\"proportion of train data:\",nrow(train)/nrow(down_data)))\n",
    "noquote(paste(\"proportion of test data:\",nrow(test)/nrow(down_data)))"
   ]
  },
  {
   "cell_type": "code",
   "execution_count": 22,
   "id": "e59385aa",
   "metadata": {},
   "outputs": [
    {
     "data": {
      "text/html": [
       "<ol class=list-inline>\n",
       "\t<li>49484</li>\n",
       "\t<li>21</li>\n",
       "</ol>\n"
      ],
      "text/latex": [
       "\\begin{enumerate*}\n",
       "\\item 49484\n",
       "\\item 21\n",
       "\\end{enumerate*}\n"
      ],
      "text/markdown": [
       "1. 49484\n",
       "2. 21\n",
       "\n",
       "\n"
      ],
      "text/plain": [
       "[1] 49484    21"
      ]
     },
     "metadata": {},
     "output_type": "display_data"
    }
   ],
   "source": [
    "# verify the input and output data stay separate\n",
    "y = train$Diabetes_binary\n",
    "X = train[ ,!(names(train) %in% \"Diabetes_binary\")] #all but Diabetes_binary\n",
    "dim(X)"
   ]
  },
  {
   "cell_type": "code",
   "execution_count": 23,
   "id": "427c7105",
   "metadata": {},
   "outputs": [
    {
     "data": {
      "text/html": [
       "<ol class=list-inline>\n",
       "\t<li>49484</li>\n",
       "\t<li>92</li>\n",
       "</ol>\n"
      ],
      "text/latex": [
       "\\begin{enumerate*}\n",
       "\\item 49484\n",
       "\\item 92\n",
       "\\end{enumerate*}\n"
      ],
      "text/markdown": [
       "1. 49484\n",
       "2. 92\n",
       "\n",
       "\n"
      ],
      "text/plain": [
       "[1] 49484    92"
      ]
     },
     "metadata": {},
     "output_type": "display_data"
    },
    {
     "data": {
      "text/html": [
       "<table>\n",
       "<thead><tr><th></th><th scope=col>HighBP1</th><th scope=col>HighChol1</th><th scope=col>CholCheck1</th><th scope=col>BMI</th><th scope=col>Smoker1</th><th scope=col>Stroke1</th><th scope=col>HeartDiseaseorAttack1</th><th scope=col>PhysActivity1</th><th scope=col>Fruits1</th><th scope=col>Veggies1</th><th scope=col>...</th><th scope=col>Education4</th><th scope=col>Education5</th><th scope=col>Education6</th><th scope=col>Income2</th><th scope=col>Income3</th><th scope=col>Income4</th><th scope=col>Income5</th><th scope=col>Income6</th><th scope=col>Income7</th><th scope=col>Income8</th></tr></thead>\n",
       "<tbody>\n",
       "\t<tr><th scope=row>3457</th><td>1  </td><td>1  </td><td>1  </td><td>28 </td><td>1  </td><td>0  </td><td>0  </td><td>1  </td><td>0  </td><td>1  </td><td>...</td><td>0  </td><td>1  </td><td>0  </td><td>0  </td><td>0  </td><td>0  </td><td>0  </td><td>1  </td><td>0  </td><td>0  </td></tr>\n",
       "\t<tr><th scope=row>24281</th><td>0  </td><td>0  </td><td>1  </td><td>27 </td><td>0  </td><td>0  </td><td>0  </td><td>1  </td><td>1  </td><td>1  </td><td>...</td><td>0  </td><td>0  </td><td>1  </td><td>0  </td><td>0  </td><td>0  </td><td>0  </td><td>0  </td><td>0  </td><td>1  </td></tr>\n",
       "\t<tr><th scope=row>33446</th><td>1  </td><td>0  </td><td>1  </td><td>23 </td><td>0  </td><td>0  </td><td>0  </td><td>1  </td><td>1  </td><td>1  </td><td>...</td><td>0  </td><td>0  </td><td>0  </td><td>0  </td><td>0  </td><td>0  </td><td>0  </td><td>0  </td><td>0  </td><td>1  </td></tr>\n",
       "\t<tr><th scope=row>10778</th><td>0  </td><td>0  </td><td>1  </td><td>22 </td><td>0  </td><td>0  </td><td>0  </td><td>1  </td><td>0  </td><td>0  </td><td>...</td><td>0  </td><td>0  </td><td>1  </td><td>0  </td><td>0  </td><td>1  </td><td>0  </td><td>0  </td><td>0  </td><td>0  </td></tr>\n",
       "\t<tr><th scope=row>11227</th><td>0  </td><td>1  </td><td>1  </td><td>30 </td><td>1  </td><td>0  </td><td>0  </td><td>0  </td><td>0  </td><td>1  </td><td>...</td><td>1  </td><td>0  </td><td>0  </td><td>0  </td><td>0  </td><td>0  </td><td>0  </td><td>0  </td><td>1  </td><td>0  </td></tr>\n",
       "</tbody>\n",
       "</table>\n"
      ],
      "text/latex": [
       "\\begin{tabular}{r|llllllllllllllllllllllllllllllllllllllllllllllllllllllllllllllllllllllllllllllllllllllllllll}\n",
       "  & HighBP1 & HighChol1 & CholCheck1 & BMI & Smoker1 & Stroke1 & HeartDiseaseorAttack1 & PhysActivity1 & Fruits1 & Veggies1 & ... & Education4 & Education5 & Education6 & Income2 & Income3 & Income4 & Income5 & Income6 & Income7 & Income8\\\\\n",
       "\\hline\n",
       "\t3457 & 1   & 1   & 1   & 28  & 1   & 0   & 0   & 1   & 0   & 1   & ... & 0   & 1   & 0   & 0   & 0   & 0   & 0   & 1   & 0   & 0  \\\\\n",
       "\t24281 & 0   & 0   & 1   & 27  & 0   & 0   & 0   & 1   & 1   & 1   & ... & 0   & 0   & 1   & 0   & 0   & 0   & 0   & 0   & 0   & 1  \\\\\n",
       "\t33446 & 1   & 0   & 1   & 23  & 0   & 0   & 0   & 1   & 1   & 1   & ... & 0   & 0   & 0   & 0   & 0   & 0   & 0   & 0   & 0   & 1  \\\\\n",
       "\t10778 & 0   & 0   & 1   & 22  & 0   & 0   & 0   & 1   & 0   & 0   & ... & 0   & 0   & 1   & 0   & 0   & 1   & 0   & 0   & 0   & 0  \\\\\n",
       "\t11227 & 0   & 1   & 1   & 30  & 1   & 0   & 0   & 0   & 0   & 1   & ... & 1   & 0   & 0   & 0   & 0   & 0   & 0   & 0   & 1   & 0  \\\\\n",
       "\\end{tabular}\n"
      ],
      "text/markdown": [
       "\n",
       "| <!--/--> | HighBP1 | HighChol1 | CholCheck1 | BMI | Smoker1 | Stroke1 | HeartDiseaseorAttack1 | PhysActivity1 | Fruits1 | Veggies1 | ... | Education4 | Education5 | Education6 | Income2 | Income3 | Income4 | Income5 | Income6 | Income7 | Income8 |\n",
       "|---|---|---|---|---|---|---|---|---|---|---|---|---|---|---|---|---|---|---|---|---|---|\n",
       "| 3457 | 1   | 1   | 1   | 28  | 1   | 0   | 0   | 1   | 0   | 1   | ... | 0   | 1   | 0   | 0   | 0   | 0   | 0   | 1   | 0   | 0   |\n",
       "| 24281 | 0   | 0   | 1   | 27  | 0   | 0   | 0   | 1   | 1   | 1   | ... | 0   | 0   | 1   | 0   | 0   | 0   | 0   | 0   | 0   | 1   |\n",
       "| 33446 | 1   | 0   | 1   | 23  | 0   | 0   | 0   | 1   | 1   | 1   | ... | 0   | 0   | 0   | 0   | 0   | 0   | 0   | 0   | 0   | 1   |\n",
       "| 10778 | 0   | 0   | 1   | 22  | 0   | 0   | 0   | 1   | 0   | 0   | ... | 0   | 0   | 1   | 0   | 0   | 1   | 0   | 0   | 0   | 0   |\n",
       "| 11227 | 0   | 1   | 1   | 30  | 1   | 0   | 0   | 0   | 0   | 1   | ... | 1   | 0   | 0   | 0   | 0   | 0   | 0   | 0   | 1   | 0   |\n",
       "\n"
      ],
      "text/plain": [
       "      HighBP1 HighChol1 CholCheck1 BMI Smoker1 Stroke1 HeartDiseaseorAttack1\n",
       "3457  1       1         1          28  1       0       0                    \n",
       "24281 0       0         1          27  0       0       0                    \n",
       "33446 1       0         1          23  0       0       0                    \n",
       "10778 0       0         1          22  0       0       0                    \n",
       "11227 0       1         1          30  1       0       0                    \n",
       "      PhysActivity1 Fruits1 Veggies1 ... Education4 Education5 Education6\n",
       "3457  1             0       1        ... 0          1          0         \n",
       "24281 1             1       1        ... 0          0          1         \n",
       "33446 1             1       1        ... 0          0          0         \n",
       "10778 1             0       0        ... 0          0          1         \n",
       "11227 0             0       1        ... 1          0          0         \n",
       "      Income2 Income3 Income4 Income5 Income6 Income7 Income8\n",
       "3457  0       0       0       0       1       0       0      \n",
       "24281 0       0       0       0       0       0       1      \n",
       "33446 0       0       0       0       0       0       1      \n",
       "10778 0       0       1       0       0       0       0      \n",
       "11227 0       0       0       0       0       1       0      "
      ]
     },
     "metadata": {},
     "output_type": "display_data"
    }
   ],
   "source": [
    "X = model.matrix( ~ . , data=X)[,-1]\n",
    "\n",
    "dim(X)\n",
    "\n",
    "X[1:5,]"
   ]
  },
  {
   "cell_type": "code",
   "execution_count": 24,
   "id": "5260bddf",
   "metadata": {},
   "outputs": [],
   "source": [
    "cvfit = cv.glmnet(X,y,family = \"binomial\",lambda=mylambda,type.measure=\"deviance\", nfolds = 10, alpha = 1) "
   ]
  },
  {
   "cell_type": "code",
   "execution_count": 25,
   "id": "7c10cf15",
   "metadata": {},
   "outputs": [
    {
     "data": {
      "text/plain": [
       "93 x 1 sparse Matrix of class \"dgCMatrix\"\n",
       "                                 1\n",
       "(Intercept)           -6.630320262\n",
       "HighBP1                0.724649391\n",
       "HighChol1              0.608657332\n",
       "CholCheck1             1.347591755\n",
       "BMI                    0.072515737\n",
       "Smoker1               -0.028138166\n",
       "Stroke1                0.145160023\n",
       "HeartDiseaseorAttack1  0.248651646\n",
       "PhysActivity1         -0.081266475\n",
       "Fruits1               -0.043757049\n",
       "Veggies1              -0.013259499\n",
       "HvyAlcoholConsump1    -0.775685902\n",
       "AnyHealthcare1         0.094266968\n",
       "NoDocbcCost1           0.003890817\n",
       "GenHlth2               0.707541520\n",
       "GenHlth3               1.390513927\n",
       "GenHlth4               1.856990500\n",
       "GenHlth5               1.947138081\n",
       "MentHlth1             -0.263530342\n",
       "MentHlth2             -0.090943494\n",
       "MentHlth3             -0.228928791\n",
       "MentHlth4             -0.147959318\n",
       "MentHlth5             -0.190036437\n",
       "MentHlth6             -0.100784032\n",
       "MentHlth7             -0.117071438\n",
       "MentHlth8             -0.328885862\n",
       "MentHlth9             -0.647456798\n",
       "MentHlth10            -0.108413727\n",
       "MentHlth11            -2.168208417\n",
       "MentHlth12            -0.058771237\n",
       "MentHlth13             1.581223940\n",
       "MentHlth14            -0.028895293\n",
       "MentHlth15            -0.145037252\n",
       "MentHlth16            -0.625634300\n",
       "MentHlth17             1.173025089\n",
       "MentHlth18            -0.392396960\n",
       "MentHlth19             0.548488104\n",
       "MentHlth20            -0.149480420\n",
       "MentHlth21             0.292211622\n",
       "MentHlth22            -0.205373430\n",
       "MentHlth23             0.641309650\n",
       "MentHlth24            -0.181590296\n",
       "MentHlth25            -0.226990396\n",
       "MentHlth26            -1.338016962\n",
       "MentHlth27             0.534173845\n",
       "MentHlth28             0.327184526\n",
       "MentHlth29            -0.256264562\n",
       "MentHlth30            -0.067414014\n",
       "PhysHlth1              0.060797269\n",
       "PhysHlth2              0.123992648\n",
       "PhysHlth3             -0.060702652\n",
       "PhysHlth4              0.027534503\n",
       "PhysHlth5              0.018718851\n",
       "PhysHlth6             -0.158309749\n",
       "PhysHlth7             -0.045684833\n",
       "PhysHlth8             -0.064253632\n",
       "PhysHlth9              0.129983785\n",
       "PhysHlth10             0.047880218\n",
       "PhysHlth11            -0.102859546\n",
       "PhysHlth12            -0.288290899\n",
       "PhysHlth13            -0.151674746\n",
       "PhysHlth14            -0.132131821\n",
       "PhysHlth15             0.046747108\n",
       "PhysHlth16             1.088106617\n",
       "PhysHlth17            -0.139155184\n",
       "PhysHlth18             0.777423586\n",
       "PhysHlth19            -0.272877788\n",
       "PhysHlth20            -0.017925769\n",
       "PhysHlth21             0.022919925\n",
       "PhysHlth22             0.654283032\n",
       "PhysHlth23            -0.809446286\n",
       "PhysHlth24            -0.535664361\n",
       "PhysHlth25            -0.035254989\n",
       "PhysHlth26             0.387739982\n",
       "PhysHlth27            -0.164923045\n",
       "PhysHlth28             0.046677744\n",
       "PhysHlth29             0.269918197\n",
       "PhysHlth30            -0.026942032\n",
       "DiffWalk1              0.168287634\n",
       "Sex1                   0.297109414\n",
       "Age                    0.151101223\n",
       "Education2             0.159026862\n",
       "Education3            -0.017689431\n",
       "Education4            -0.030874105\n",
       "Education5             0.009033473\n",
       "Education6            -0.130093923\n",
       "Income2                0.007233789\n",
       "Income3               -0.094464381\n",
       "Income4               -0.083138512\n",
       "Income5               -0.149353250\n",
       "Income6               -0.194488213\n",
       "Income7               -0.212778046\n",
       "Income8               -0.342029994"
      ]
     },
     "metadata": {},
     "output_type": "display_data"
    }
   ],
   "source": [
    "coef(cvfit)"
   ]
  },
  {
   "cell_type": "code",
   "execution_count": 26,
   "id": "8f71b345",
   "metadata": {},
   "outputs": [
    {
     "name": "stderr",
     "output_type": "stream",
     "text": [
      "Warning message in regularize.values(x, y, ties, missing(ties)):\n",
      "\"collapsing to unique 'x' values\""
     ]
    },
    {
     "data": {
      "image/png": "[encoded data removed]",
      "text/plain": [
       "plot without title"
      ]
     },
     "metadata": {},
     "output_type": "display_data"
    },
    {
     "data": {
      "image/png": "[encoded data removed]",
      "text/plain": [
       "plot without title"
      ]
     },
     "metadata": {},
     "output_type": "display_data"
    }
   ],
   "source": [
    "#plot Lasso based on deviance measure\n",
    "plot(cvfit)  #note on x-axis in the plot is log(lambda), not log(1/lambda)\n",
    "\n",
    "#plot coefficients for various models; ignore the warning message\n",
    "plot(cvfit$glmnet.fit)"
   ]
  },
  {
   "cell_type": "code",
   "execution_count": 27,
   "id": "d4121328",
   "metadata": {},
   "outputs": [
    {
     "data": {
      "image/png": "[encoded data removed]",
      "text/plain": [
       "Plot with title \"\"Number of Non-zero Coeff's for Each \" * lambda\""
      ]
     },
     "metadata": {},
     "output_type": "display_data"
    }
   ],
   "source": [
    "##Number of non-zero coefficients vs. $\\lambda$\n",
    "\n",
    "plot(cvfit$glmnet$lambda,cvfit$glmnet$df, \n",
    "     main=TeX(\"Number of Non-zero Coeff's for Each $\\\\lambda$\"),pch=16)\n",
    "abline(v=cvfit$lambda.min,col=\"red\",lty=\"dashed\")\n",
    "abline(v=cvfit$lambda.1se,col=\"blue\",lty=\"dashed\")"
   ]
  },
  {
   "cell_type": "code",
   "execution_count": 28,
   "id": "0c61d58d",
   "metadata": {},
   "outputs": [],
   "source": [
    "ytest = test$Diabetes_binary\n",
    "Xtest = test[ ,!(names(test) %in% \"Diabetes_binary\")]\n",
    "\n",
    "Xtest = model.matrix( ~ ., data=Xtest)[,-1]\n",
    "pihat = predict(object=cvfit, newx = Xtest, type=\"response\")"
   ]
  },
  {
   "cell_type": "code",
   "execution_count": 29,
   "id": "cd98d76f",
   "metadata": {},
   "outputs": [
    {
     "name": "stderr",
     "output_type": "stream",
     "text": [
      "Setting levels: control = FALSE, case = TRUE\n",
      "Warning message in roc.default(response = ylogical, predictor = pihat):\n",
      "\"Deprecated use a matrix as predictor. Unexpected results may be produced, please pass a numeric vector.\"Setting direction: controls < cases\n"
     ]
    },
    {
     "data": {
      "image/png": "[encoded data removed]",
      "text/plain": [
       "Plot with title \"AUC =  0.82\""
      ]
     },
     "metadata": {},
     "output_type": "display_data"
    }
   ],
   "source": [
    "ylogical = (ytest == 1)\n",
    "ROCcrv = roc(response=ylogical, predictor=pihat)\n",
    "AUC = auc(ROCcrv)\n",
    "\n",
    "plot(x=ROCcrv$specificities,y=ROCcrv$sensitivities, main=paste(\"AUC = \",round(AUC,2)), \n",
    "     xlab=\"Specificity (decreasing order!)\", ylab=\"Sensitivity\", xlim=c(1,0), type=\"l\", col=\"red\")"
   ]
  },
  {
   "cell_type": "code",
   "execution_count": 30,
   "id": "063bbcd8",
   "metadata": {},
   "outputs": [
    {
     "data": {
      "text/plain": [
       "    ytest\n",
       "yhat    0    1\n",
       "   0 7587 2478\n",
       "   1 2983 8160"
      ]
     },
     "metadata": {},
     "output_type": "display_data"
    }
   ],
   "source": [
    "yhat = ifelse(pihat>0.5,\"1\",\"0\")\n",
    "tbl = table(yhat, ytest)\n",
    "\n",
    "tbl"
   ]
  },
  {
   "cell_type": "code",
   "execution_count": 31,
   "id": "8a30e28c",
   "metadata": {},
   "outputs": [],
   "source": [
    "acc = (tbl[1,1]+tbl[2,2])/sum(tbl)\n",
    "\n",
    "FNR = tbl[1,2]/sum(tbl[,2])"
   ]
  },
  {
   "cell_type": "code",
   "execution_count": 32,
   "id": "af70efa2",
   "metadata": {},
   "outputs": [
    {
     "data": {
      "text/html": [
       "0.742502829121086"
      ],
      "text/latex": [
       "0.742502829121086"
      ],
      "text/markdown": [
       "0.742502829121086"
      ],
      "text/plain": [
       "[1] 0.7425028"
      ]
     },
     "metadata": {},
     "output_type": "display_data"
    }
   ],
   "source": [
    "acc"
   ]
  },
  {
   "cell_type": "code",
   "execution_count": 33,
   "id": "fee93145",
   "metadata": {},
   "outputs": [
    {
     "data": {
      "text/html": [
       "0.232938522278624"
      ],
      "text/latex": [
       "0.232938522278624"
      ],
      "text/markdown": [
       "0.232938522278624"
      ],
      "text/plain": [
       "[1] 0.2329385"
      ]
     },
     "metadata": {},
     "output_type": "display_data"
    }
   ],
   "source": [
    "FNR"
   ]
  },
  {
   "cell_type": "markdown",
   "id": "f157e0b8",
   "metadata": {},
   "source": [
    "### Results\n",
    "\n",
    "Yay! While we did reduce the accuracy to about 75%, we did substantially lower the false negative rate to about 23%. Still a bit too much for my liking however so we are going to try one more time, but this time, we will up-sample the data."
   ]
  },
  {
   "cell_type": "markdown",
   "id": "1d01ab8b",
   "metadata": {},
   "source": [
    "# Up-sampling"
   ]
  },
  {
   "cell_type": "code",
   "execution_count": 34,
   "id": "0fbcafa8",
   "metadata": {},
   "outputs": [
    {
     "name": "stdout",
     "output_type": "stream",
     "text": [
      "'data.frame':\t436668 obs. of  22 variables:\n",
      " $ HighBP              : Factor w/ 2 levels \"0\",\"1\": 2 1 2 2 2 2 2 2 1 2 ...\n",
      " $ HighChol            : Factor w/ 2 levels \"0\",\"1\": 2 1 2 1 2 2 1 2 1 2 ...\n",
      " $ CholCheck           : Factor w/ 2 levels \"0\",\"1\": 2 1 2 2 2 2 2 2 2 2 ...\n",
      " $ BMI                 : num  40 25 28 27 24 25 30 25 24 34 ...\n",
      " $ Smoker              : Factor w/ 2 levels \"0\",\"1\": 2 2 1 1 1 2 2 2 1 2 ...\n",
      " $ Stroke              : Factor w/ 2 levels \"0\",\"1\": 1 1 1 1 1 1 1 1 1 1 ...\n",
      " $ HeartDiseaseorAttack: Factor w/ 2 levels \"0\",\"1\": 1 1 1 1 1 1 1 1 1 1 ...\n",
      " $ PhysActivity        : Factor w/ 2 levels \"0\",\"1\": 1 2 1 2 2 2 1 2 1 1 ...\n",
      " $ Fruits              : Factor w/ 2 levels \"0\",\"1\": 1 1 2 2 2 2 1 1 1 2 ...\n",
      " $ Veggies             : Factor w/ 2 levels \"0\",\"1\": 2 1 1 2 2 2 1 2 2 2 ...\n",
      " $ HvyAlcoholConsump   : Factor w/ 2 levels \"0\",\"1\": 1 1 1 1 1 1 1 1 1 1 ...\n",
      " $ AnyHealthcare       : Factor w/ 2 levels \"0\",\"1\": 2 1 2 2 2 2 2 2 2 2 ...\n",
      " $ NoDocbcCost         : Factor w/ 2 levels \"0\",\"1\": 1 2 2 1 1 1 1 1 1 1 ...\n",
      " $ GenHlth             : Factor w/ 5 levels \"1\",\"2\",\"3\",\"4\",..: 5 3 5 2 2 2 3 3 2 3 ...\n",
      " $ MentHlth            : Factor w/ 31 levels \"0\",\"1\",\"2\",\"3\",..: 19 1 31 1 4 1 1 1 1 1 ...\n",
      " $ PhysHlth            : Factor w/ 31 levels \"0\",\"1\",\"2\",\"3\",..: 16 1 31 1 1 3 15 1 1 31 ...\n",
      " $ DiffWalk            : Factor w/ 2 levels \"0\",\"1\": 2 1 2 1 1 1 1 2 1 2 ...\n",
      " $ Sex                 : Factor w/ 2 levels \"0\",\"1\": 1 1 1 1 1 2 1 1 2 1 ...\n",
      " $ Age                 : num  9 7 9 11 11 10 9 11 8 10 ...\n",
      " $ Education           : Factor w/ 6 levels \"1\",\"2\",\"3\",\"4\",..: 4 6 4 3 5 6 6 4 4 5 ...\n",
      " $ Income              : Factor w/ 8 levels \"1\",\"2\",\"3\",\"4\",..: 3 1 8 6 4 8 7 4 3 1 ...\n",
      " $ Diabetes_binary     : Factor w/ 2 levels \"0\",\"1\": 1 1 1 1 1 1 1 1 1 1 ...\n"
     ]
    }
   ],
   "source": [
    "up_data = upSample(data[,-1], data$Diabetes_binary, yname=\"Diabetes_binary\")\n",
    "str(up_data)"
   ]
  },
  {
   "cell_type": "code",
   "execution_count": 35,
   "id": "bcdba5d8",
   "metadata": {},
   "outputs": [
    {
     "data": {
      "text/html": [
       "<ol class=list-inline>\n",
       "\t<li>253680</li>\n",
       "\t<li>22</li>\n",
       "</ol>\n"
      ],
      "text/latex": [
       "\\begin{enumerate*}\n",
       "\\item 253680\n",
       "\\item 22\n",
       "\\end{enumerate*}\n"
      ],
      "text/markdown": [
       "1. 253680\n",
       "2. 22\n",
       "\n",
       "\n"
      ],
      "text/plain": [
       "[1] 253680     22"
      ]
     },
     "metadata": {},
     "output_type": "display_data"
    },
    {
     "data": {
      "text/plain": [
       "[1] proportion of train data: 0.699998625958394"
      ]
     },
     "metadata": {},
     "output_type": "display_data"
    },
    {
     "data": {
      "text/plain": [
       "[1] proportion of test data: 0.300001374041606"
      ]
     },
     "metadata": {},
     "output_type": "display_data"
    }
   ],
   "source": [
    "set.seed(227)\n",
    "trainidx = sample(1:nrow(up_data),size=0.7*nrow(up_data),replace=FALSE)\n",
    "\n",
    "\n",
    "train = up_data[trainidx, ]\n",
    "test = up_data[-trainidx, ]\n",
    "\n",
    "dim(data) #see the dimensions of train data frame\n",
    "\n",
    "#verify proportions\n",
    "noquote(paste(\"proportion of train data:\",nrow(train)/nrow(up_data)))\n",
    "noquote(paste(\"proportion of test data:\",nrow(test)/nrow(up_data)))"
   ]
  },
  {
   "cell_type": "code",
   "execution_count": 36,
   "id": "976f0dc6",
   "metadata": {},
   "outputs": [
    {
     "data": {
      "text/html": [
       "<ol class=list-inline>\n",
       "\t<li>305667</li>\n",
       "\t<li>21</li>\n",
       "</ol>\n"
      ],
      "text/latex": [
       "\\begin{enumerate*}\n",
       "\\item 305667\n",
       "\\item 21\n",
       "\\end{enumerate*}\n"
      ],
      "text/markdown": [
       "1. 305667\n",
       "2. 21\n",
       "\n",
       "\n"
      ],
      "text/plain": [
       "[1] 305667     21"
      ]
     },
     "metadata": {},
     "output_type": "display_data"
    }
   ],
   "source": [
    "#get response vector y and predictor matrix (in fact, data frame) X from diabetes data\n",
    "y = train$Diabetes_binary\n",
    "X = train[ ,!(names(train) %in% \"Diabetes_binary\")] #all but Diabetes_binary\n",
    "dim(X)"
   ]
  },
  {
   "cell_type": "code",
   "execution_count": 37,
   "id": "e16d57e4",
   "metadata": {},
   "outputs": [
    {
     "data": {
      "text/html": [
       "<ol class=list-inline>\n",
       "\t<li>305667</li>\n",
       "\t<li>92</li>\n",
       "</ol>\n"
      ],
      "text/latex": [
       "\\begin{enumerate*}\n",
       "\\item 305667\n",
       "\\item 92\n",
       "\\end{enumerate*}\n"
      ],
      "text/markdown": [
       "1. 305667\n",
       "2. 92\n",
       "\n",
       "\n"
      ],
      "text/plain": [
       "[1] 305667     92"
      ]
     },
     "metadata": {},
     "output_type": "display_data"
    },
    {
     "data": {
      "text/html": [
       "<table>\n",
       "<thead><tr><th></th><th scope=col>HighBP1</th><th scope=col>HighChol1</th><th scope=col>CholCheck1</th><th scope=col>BMI</th><th scope=col>Smoker1</th><th scope=col>Stroke1</th><th scope=col>HeartDiseaseorAttack1</th><th scope=col>PhysActivity1</th><th scope=col>Fruits1</th><th scope=col>Veggies1</th><th scope=col>...</th><th scope=col>Education4</th><th scope=col>Education5</th><th scope=col>Education6</th><th scope=col>Income2</th><th scope=col>Income3</th><th scope=col>Income4</th><th scope=col>Income5</th><th scope=col>Income6</th><th scope=col>Income7</th><th scope=col>Income8</th></tr></thead>\n",
       "<tbody>\n",
       "\t<tr><th scope=row>134529</th><td>0  </td><td>0  </td><td>1  </td><td>21 </td><td>0  </td><td>0  </td><td>0  </td><td>1  </td><td>1  </td><td>1  </td><td>...</td><td>0  </td><td>1  </td><td>0  </td><td>0  </td><td>0  </td><td>0  </td><td>1  </td><td>0  </td><td>0  </td><td>0  </td></tr>\n",
       "\t<tr><th scope=row>417497</th><td>0  </td><td>0  </td><td>1  </td><td>26 </td><td>0  </td><td>0  </td><td>0  </td><td>1  </td><td>1  </td><td>1  </td><td>...</td><td>1  </td><td>0  </td><td>0  </td><td>0  </td><td>0  </td><td>1  </td><td>0  </td><td>0  </td><td>0  </td><td>0  </td></tr>\n",
       "\t<tr><th scope=row>82275</th><td>0  </td><td>0  </td><td>1  </td><td>27 </td><td>1  </td><td>0  </td><td>0  </td><td>1  </td><td>0  </td><td>0  </td><td>...</td><td>0  </td><td>0  </td><td>1  </td><td>0  </td><td>0  </td><td>0  </td><td>0  </td><td>0  </td><td>0  </td><td>1  </td></tr>\n",
       "\t<tr><th scope=row>256669</th><td>1  </td><td>1  </td><td>1  </td><td>20 </td><td>1  </td><td>0  </td><td>1  </td><td>1  </td><td>0  </td><td>1  </td><td>...</td><td>0  </td><td>0  </td><td>0  </td><td>0  </td><td>0  </td><td>1  </td><td>0  </td><td>0  </td><td>0  </td><td>0  </td></tr>\n",
       "\t<tr><th scope=row>332835</th><td>0  </td><td>0  </td><td>1  </td><td>32 </td><td>0  </td><td>0  </td><td>0  </td><td>0  </td><td>1  </td><td>1  </td><td>...</td><td>0  </td><td>0  </td><td>1  </td><td>0  </td><td>0  </td><td>0  </td><td>0  </td><td>0  </td><td>0  </td><td>1  </td></tr>\n",
       "</tbody>\n",
       "</table>\n"
      ],
      "text/latex": [
       "\\begin{tabular}{r|llllllllllllllllllllllllllllllllllllllllllllllllllllllllllllllllllllllllllllllllllllllllllll}\n",
       "  & HighBP1 & HighChol1 & CholCheck1 & BMI & Smoker1 & Stroke1 & HeartDiseaseorAttack1 & PhysActivity1 & Fruits1 & Veggies1 & ... & Education4 & Education5 & Education6 & Income2 & Income3 & Income4 & Income5 & Income6 & Income7 & Income8\\\\\n",
       "\\hline\n",
       "\t134529 & 0   & 0   & 1   & 21  & 0   & 0   & 0   & 1   & 1   & 1   & ... & 0   & 1   & 0   & 0   & 0   & 0   & 1   & 0   & 0   & 0  \\\\\n",
       "\t417497 & 0   & 0   & 1   & 26  & 0   & 0   & 0   & 1   & 1   & 1   & ... & 1   & 0   & 0   & 0   & 0   & 1   & 0   & 0   & 0   & 0  \\\\\n",
       "\t82275 & 0   & 0   & 1   & 27  & 1   & 0   & 0   & 1   & 0   & 0   & ... & 0   & 0   & 1   & 0   & 0   & 0   & 0   & 0   & 0   & 1  \\\\\n",
       "\t256669 & 1   & 1   & 1   & 20  & 1   & 0   & 1   & 1   & 0   & 1   & ... & 0   & 0   & 0   & 0   & 0   & 1   & 0   & 0   & 0   & 0  \\\\\n",
       "\t332835 & 0   & 0   & 1   & 32  & 0   & 0   & 0   & 0   & 1   & 1   & ... & 0   & 0   & 1   & 0   & 0   & 0   & 0   & 0   & 0   & 1  \\\\\n",
       "\\end{tabular}\n"
      ],
      "text/markdown": [
       "\n",
       "| <!--/--> | HighBP1 | HighChol1 | CholCheck1 | BMI | Smoker1 | Stroke1 | HeartDiseaseorAttack1 | PhysActivity1 | Fruits1 | Veggies1 | ... | Education4 | Education5 | Education6 | Income2 | Income3 | Income4 | Income5 | Income6 | Income7 | Income8 |\n",
       "|---|---|---|---|---|---|---|---|---|---|---|---|---|---|---|---|---|---|---|---|---|---|\n",
       "| 134529 | 0   | 0   | 1   | 21  | 0   | 0   | 0   | 1   | 1   | 1   | ... | 0   | 1   | 0   | 0   | 0   | 0   | 1   | 0   | 0   | 0   |\n",
       "| 417497 | 0   | 0   | 1   | 26  | 0   | 0   | 0   | 1   | 1   | 1   | ... | 1   | 0   | 0   | 0   | 0   | 1   | 0   | 0   | 0   | 0   |\n",
       "| 82275 | 0   | 0   | 1   | 27  | 1   | 0   | 0   | 1   | 0   | 0   | ... | 0   | 0   | 1   | 0   | 0   | 0   | 0   | 0   | 0   | 1   |\n",
       "| 256669 | 1   | 1   | 1   | 20  | 1   | 0   | 1   | 1   | 0   | 1   | ... | 0   | 0   | 0   | 0   | 0   | 1   | 0   | 0   | 0   | 0   |\n",
       "| 332835 | 0   | 0   | 1   | 32  | 0   | 0   | 0   | 0   | 1   | 1   | ... | 0   | 0   | 1   | 0   | 0   | 0   | 0   | 0   | 0   | 1   |\n",
       "\n"
      ],
      "text/plain": [
       "       HighBP1 HighChol1 CholCheck1 BMI Smoker1 Stroke1 HeartDiseaseorAttack1\n",
       "134529 0       0         1          21  0       0       0                    \n",
       "417497 0       0         1          26  0       0       0                    \n",
       "82275  0       0         1          27  1       0       0                    \n",
       "256669 1       1         1          20  1       0       1                    \n",
       "332835 0       0         1          32  0       0       0                    \n",
       "       PhysActivity1 Fruits1 Veggies1 ... Education4 Education5 Education6\n",
       "134529 1             1       1        ... 0          1          0         \n",
       "417497 1             1       1        ... 1          0          0         \n",
       "82275  1             0       0        ... 0          0          1         \n",
       "256669 1             0       1        ... 0          0          0         \n",
       "332835 0             1       1        ... 0          0          1         \n",
       "       Income2 Income3 Income4 Income5 Income6 Income7 Income8\n",
       "134529 0       0       0       1       0       0       0      \n",
       "417497 0       0       1       0       0       0       0      \n",
       "82275  0       0       0       0       0       0       1      \n",
       "256669 0       0       1       0       0       0       0      \n",
       "332835 0       0       0       0       0       0       1      "
      ]
     },
     "metadata": {},
     "output_type": "display_data"
    }
   ],
   "source": [
    "X = model.matrix( ~ . , data=X)[,-1]\n",
    "\n",
    "dim(X)\n",
    "\n",
    "X[1:5,]"
   ]
  },
  {
   "cell_type": "code",
   "execution_count": 38,
   "id": "b4b510b9",
   "metadata": {},
   "outputs": [],
   "source": [
    "cvfit = cv.glmnet(X,y,family = \"binomial\",lambda=mylambda,type.measure=\"deviance\", nfolds = 10, alpha = 1)"
   ]
  },
  {
   "cell_type": "code",
   "execution_count": 39,
   "id": "ee5c3a50",
   "metadata": {},
   "outputs": [
    {
     "data": {
      "text/plain": [
       "93 x 1 sparse Matrix of class \"dgCMatrix\"\n",
       "                                  1\n",
       "(Intercept)           -6.543819e+00\n",
       "HighBP1                7.212102e-01\n",
       "HighChol1              5.788730e-01\n",
       "CholCheck1             1.321596e+00\n",
       "BMI                    7.121264e-02\n",
       "Smoker1               -2.078353e-02\n",
       "Stroke1                1.733612e-01\n",
       "HeartDiseaseorAttack1  2.636388e-01\n",
       "PhysActivity1         -5.161192e-02\n",
       "Fruits1               -5.233529e-02\n",
       "Veggies1              -4.095757e-02\n",
       "HvyAlcoholConsump1    -7.203782e-01\n",
       "AnyHealthcare1         1.019751e-01\n",
       "NoDocbcCost1           3.909039e-02\n",
       "GenHlth2               7.480900e-01\n",
       "GenHlth3               1.446841e+00\n",
       "GenHlth4               1.887881e+00\n",
       "GenHlth5               2.039884e+00\n",
       "MentHlth1             -2.000254e-01\n",
       "MentHlth2             -1.140225e-01\n",
       "MentHlth3             -1.466011e-01\n",
       "MentHlth4             -2.420565e-01\n",
       "MentHlth5             -1.954924e-01\n",
       "MentHlth6              4.109824e-02\n",
       "MentHlth7             -1.150888e-01\n",
       "MentHlth8             -8.009847e-02\n",
       "MentHlth9             -5.142170e-01\n",
       "MentHlth10            -1.174004e-01\n",
       "MentHlth11            -1.231414e+00\n",
       "MentHlth12            -8.836133e-02\n",
       "MentHlth13             5.032103e-01\n",
       "MentHlth14             5.217083e-06\n",
       "MentHlth15            -1.893996e-01\n",
       "MentHlth16            -4.386079e-01\n",
       "MentHlth17            -1.861932e-01\n",
       "MentHlth18            -2.211846e-01\n",
       "MentHlth19             1.490354e-01\n",
       "MentHlth20            -1.095898e-01\n",
       "MentHlth21            -1.429041e-01\n",
       "MentHlth22             2.760407e-01\n",
       "MentHlth23             3.408272e-01\n",
       "MentHlth24             7.862108e-01\n",
       "MentHlth25            -8.127672e-02\n",
       "MentHlth26            -1.158724e+00\n",
       "MentHlth27            -1.069900e-01\n",
       "MentHlth28            -3.830867e-01\n",
       "MentHlth29            -2.131699e-01\n",
       "MentHlth30            -5.760862e-02\n",
       "PhysHlth1              6.878244e-02\n",
       "PhysHlth2              9.953099e-02\n",
       "PhysHlth3              3.310393e-02\n",
       "PhysHlth4              1.326652e-02\n",
       "PhysHlth5             -1.815578e-02\n",
       "PhysHlth6              9.182028e-02\n",
       "PhysHlth7             -1.138077e-02\n",
       "PhysHlth8             -4.876768e-02\n",
       "PhysHlth9              1.056026e-01\n",
       "PhysHlth10             9.757554e-02\n",
       "PhysHlth11             1.482989e-01\n",
       "PhysHlth12            -1.693296e-01\n",
       "PhysHlth13             3.889447e-01\n",
       "PhysHlth14            -9.835347e-02\n",
       "PhysHlth15             3.609541e-02\n",
       "PhysHlth16             6.297677e-01\n",
       "PhysHlth17             3.540886e-01\n",
       "PhysHlth18            -2.775096e-01\n",
       "PhysHlth19            -1.297835e+00\n",
       "PhysHlth20             2.233786e-02\n",
       "PhysHlth21            -8.203998e-02\n",
       "PhysHlth22            -1.460794e-01\n",
       "PhysHlth23            -1.665264e-01\n",
       "PhysHlth24            -3.601626e-01\n",
       "PhysHlth25            -2.859036e-02\n",
       "PhysHlth26             1.003276e+00\n",
       "PhysHlth27            -4.973942e-01\n",
       "PhysHlth28            -1.340503e-01\n",
       "PhysHlth29            -1.003620e-01\n",
       "PhysHlth30            -5.100263e-02\n",
       "DiffWalk1              1.271813e-01\n",
       "Sex1                   2.973053e-01\n",
       "Age                    1.465863e-01\n",
       "Education2             7.838628e-02\n",
       "Education3             4.639822e-02\n",
       "Education4            -2.017637e-02\n",
       "Education5             1.766954e-02\n",
       "Education6            -9.047925e-02\n",
       "Income2                3.708097e-03\n",
       "Income3               -7.774744e-02\n",
       "Income4               -1.077203e-01\n",
       "Income5               -1.777374e-01\n",
       "Income6               -2.402957e-01\n",
       "Income7               -2.702367e-01\n",
       "Income8               -3.876870e-01"
      ]
     },
     "metadata": {},
     "output_type": "display_data"
    }
   ],
   "source": [
    "coef(cvfit)"
   ]
  },
  {
   "cell_type": "code",
   "execution_count": 40,
   "id": "11619990",
   "metadata": {},
   "outputs": [
    {
     "name": "stderr",
     "output_type": "stream",
     "text": [
      "Warning message in regularize.values(x, y, ties, missing(ties)):\n",
      "\"collapsing to unique 'x' values\""
     ]
    },
    {
     "data": {
      "image/png": "[encoded data removed]",
      "text/plain": [
       "plot without title"
      ]
     },
     "metadata": {},
     "output_type": "display_data"
    },
    {
     "data": {
      "image/png": "[encoded data removed]",
      "text/plain": [
       "plot without title"
      ]
     },
     "metadata": {},
     "output_type": "display_data"
    }
   ],
   "source": [
    "#plot Lasso based on deviance measure\n",
    "plot(cvfit)  #note on x-axis in the plot is log(lambda), not log(1/lambda)\n",
    "\n",
    "#plot coefficients for various models; ignore the warning message\n",
    "plot(cvfit$glmnet.fit)"
   ]
  },
  {
   "cell_type": "code",
   "execution_count": 41,
   "id": "f7fe2b49",
   "metadata": {},
   "outputs": [
    {
     "data": {
      "image/png": "[encoded data removed]",
      "text/plain": [
       "Plot with title \"\"Number of Non-zero Coeff's for Each \" * lambda\""
      ]
     },
     "metadata": {},
     "output_type": "display_data"
    }
   ],
   "source": [
    "##Number of non-zero coefficients vs. $\\lambda$\n",
    "\n",
    "plot(cvfit$glmnet$lambda,cvfit$glmnet$df, \n",
    "     main=TeX(\"Number of Non-zero Coeff's for Each $\\\\lambda$\"),pch=16)\n",
    "abline(v=cvfit$lambda.min,col=\"red\",lty=\"dashed\")\n",
    "abline(v=cvfit$lambda.1se,col=\"blue\",lty=\"dashed\")"
   ]
  },
  {
   "cell_type": "code",
   "execution_count": 42,
   "id": "a8eef3dc",
   "metadata": {},
   "outputs": [],
   "source": [
    "ytest = test$Diabetes_binary\n",
    "Xtest = test[ ,!(names(test) %in% \"Diabetes_binary\")]\n",
    "\n",
    "Xtest = model.matrix( ~ ., data=Xtest)[,-1]\n",
    "pihat = predict(object=cvfit, newx = Xtest, type=\"response\")"
   ]
  },
  {
   "cell_type": "code",
   "execution_count": 43,
   "id": "974bb278",
   "metadata": {},
   "outputs": [
    {
     "name": "stderr",
     "output_type": "stream",
     "text": [
      "Setting levels: control = FALSE, case = TRUE\n",
      "Warning message in roc.default(response = ylogical, predictor = pihat):\n",
      "\"Deprecated use a matrix as predictor. Unexpected results may be produced, please pass a numeric vector.\"Setting direction: controls < cases\n"
     ]
    },
    {
     "data": {
      "image/png": "[encoded data removed]",
      "text/plain": [
       "Plot with title \"AUC =  0.82\""
      ]
     },
     "metadata": {},
     "output_type": "display_data"
    }
   ],
   "source": [
    "ylogical = (ytest == 1)\n",
    "ROCcrv = roc(response=ylogical, predictor=pihat)\n",
    "AUC = auc(ROCcrv)\n",
    "\n",
    "plot(x=ROCcrv$specificities,y=ROCcrv$sensitivities, main=paste(\"AUC = \",round(AUC,2)), \n",
    "     xlab=\"Specificity (decreasing order!)\", ylab=\"Sensitivity\", xlim=c(1,0), type=\"l\", col=\"red\")"
   ]
  },
  {
   "cell_type": "code",
   "execution_count": 44,
   "id": "28256860",
   "metadata": {},
   "outputs": [
    {
     "data": {
      "text/plain": [
       "    ytest\n",
       "yhat     0     1\n",
       "   0 47428 14846\n",
       "   1 18302 50425"
      ]
     },
     "metadata": {},
     "output_type": "display_data"
    }
   ],
   "source": [
    "yhat = ifelse(pihat>0.5,\"1\",\"0\")\n",
    "tbl = table(yhat, ytest)\n",
    "\n",
    "tbl"
   ]
  },
  {
   "cell_type": "code",
   "execution_count": 45,
   "id": "6f695875",
   "metadata": {},
   "outputs": [],
   "source": [
    "acc = (tbl[1,1]+tbl[2,2])/sum(tbl)\n",
    "\n",
    "FNR = tbl[1,2]/sum(tbl[,2])"
   ]
  },
  {
   "cell_type": "code",
   "execution_count": 46,
   "id": "a502363a",
   "metadata": {},
   "outputs": [
    {
     "data": {
      "text/html": [
       "0.746963763635392"
      ],
      "text/latex": [
       "0.746963763635392"
      ],
      "text/markdown": [
       "0.746963763635392"
      ],
      "text/plain": [
       "[1] 0.7469638"
      ]
     },
     "metadata": {},
     "output_type": "display_data"
    }
   ],
   "source": [
    "acc"
   ]
  },
  {
   "cell_type": "code",
   "execution_count": 47,
   "id": "013a5c1d",
   "metadata": {},
   "outputs": [
    {
     "data": {
      "text/html": [
       "0.227451701368142"
      ],
      "text/latex": [
       "0.227451701368142"
      ],
      "text/markdown": [
       "0.227451701368142"
      ],
      "text/plain": [
       "[1] 0.2274517"
      ]
     },
     "metadata": {},
     "output_type": "display_data"
    }
   ],
   "source": [
    "FNR"
   ]
  },
  {
   "cell_type": "markdown",
   "id": "6505ba9f",
   "metadata": {},
   "source": [
    "# Analysis\n",
    "\n",
    "Overall, it didnt seem like there was much of a difference up-sampling the data vs down-sampling, aside from a slight decrease in the false negative rate. Interestingly enough however, most of our visualizations remained the same. With our AUC values being almost the exact same, it shows that our models will optimize their sensitivities and specificities around the high 70% areas which overall is not too shabby. Additionally, while I expected the lasso regularization to remove some variables, they all still seemed to stick around with the most influential ones of the bunch being the worse end of the General Health questions, about 2 weeks of poor mental health, and large amount of days with physical injuries or illness to name a few.\n",
    "\n",
    "\\\n",
    "To give this another go and to try and make the model even more precise, lets try to implement a random forest model instead."
   ]
  },
  {
   "cell_type": "code",
   "execution_count": null,
   "id": "c8609c83",
   "metadata": {},
   "outputs": [],
   "source": []
  }
 ],
 "metadata": {
  "kernelspec": {
   "display_name": "R",
   "language": "R",
   "name": "ir"
  },
  "language_info": {
   "codemirror_mode": "r",
   "file_extension": ".r",
   "mimetype": "text/x-r-source",
   "name": "R",
   "pygments_lexer": "r",
   "version": "3.6.1"
  }
 },
 "nbformat": 4,
 "nbformat_minor": 5
}
